{
 "cells": [
  {
   "cell_type": "markdown",
   "metadata": {},
   "source": [
    "## Problem Statement"
   ]
  },
  {
   "cell_type": "markdown",
   "metadata": {},
   "source": [
    "- A large company named XYZ, employs, at any given point of time, around 4000 employees. \n",
    "However, every year, around 15% of its employees leave the company and need to be replaced with the talent pool available in the job market. \n",
    "The management believes that this level of attrition (employees leaving, either on their own or because they got fired) is bad for the company.\n",
    "<br/>\n",
    "- The former employees projects get delayed, which makes it difficult to meet timelines, resulting in a reputation loss among consumers and partners\n",
    "A sizeable department has to be maintained, for the purposes of recruiting new talent\n",
    "More often than not, the new employees have to be trained for the job and/or given time to acclimatise themselves to the company"
   ]
  },
  {
   "cell_type": "markdown",
   "metadata": {},
   "source": [
    "## Loading Data into Dataframe"
   ]
  },
  {
   "cell_type": "code",
   "execution_count": 1,
   "metadata": {},
   "outputs": [],
   "source": [
    "import pandas as pd\n",
    "import matplotlib.pyplot as plt"
   ]
  },
  {
   "cell_type": "code",
   "execution_count": 2,
   "metadata": {},
   "outputs": [],
   "source": [
    "data = pd.read_csv('general_data.csv')"
   ]
  },
  {
   "cell_type": "code",
   "execution_count": 3,
   "metadata": {},
   "outputs": [
    {
     "data": {
      "text/html": [
       "<div>\n",
       "<style scoped>\n",
       "    .dataframe tbody tr th:only-of-type {\n",
       "        vertical-align: middle;\n",
       "    }\n",
       "\n",
       "    .dataframe tbody tr th {\n",
       "        vertical-align: top;\n",
       "    }\n",
       "\n",
       "    .dataframe thead th {\n",
       "        text-align: right;\n",
       "    }\n",
       "</style>\n",
       "<table border=\"1\" class=\"dataframe\">\n",
       "  <thead>\n",
       "    <tr style=\"text-align: right;\">\n",
       "      <th></th>\n",
       "      <th>Age</th>\n",
       "      <th>Attrition</th>\n",
       "      <th>BusinessTravel</th>\n",
       "      <th>Department</th>\n",
       "      <th>DistanceFromHome</th>\n",
       "      <th>Education</th>\n",
       "      <th>EducationField</th>\n",
       "      <th>EmployeeCount</th>\n",
       "      <th>EmployeeID</th>\n",
       "      <th>Gender</th>\n",
       "      <th>...</th>\n",
       "      <th>NumCompaniesWorked</th>\n",
       "      <th>Over18</th>\n",
       "      <th>PercentSalaryHike</th>\n",
       "      <th>StandardHours</th>\n",
       "      <th>StockOptionLevel</th>\n",
       "      <th>TotalWorkingYears</th>\n",
       "      <th>TrainingTimesLastYear</th>\n",
       "      <th>YearsAtCompany</th>\n",
       "      <th>YearsSinceLastPromotion</th>\n",
       "      <th>YearsWithCurrManager</th>\n",
       "    </tr>\n",
       "  </thead>\n",
       "  <tbody>\n",
       "    <tr>\n",
       "      <th>0</th>\n",
       "      <td>51</td>\n",
       "      <td>No</td>\n",
       "      <td>Travel_Rarely</td>\n",
       "      <td>Sales</td>\n",
       "      <td>6</td>\n",
       "      <td>2</td>\n",
       "      <td>Life Sciences</td>\n",
       "      <td>1</td>\n",
       "      <td>1</td>\n",
       "      <td>Female</td>\n",
       "      <td>...</td>\n",
       "      <td>1.0</td>\n",
       "      <td>Y</td>\n",
       "      <td>11</td>\n",
       "      <td>8</td>\n",
       "      <td>0</td>\n",
       "      <td>1.0</td>\n",
       "      <td>6</td>\n",
       "      <td>1</td>\n",
       "      <td>0</td>\n",
       "      <td>0</td>\n",
       "    </tr>\n",
       "    <tr>\n",
       "      <th>1</th>\n",
       "      <td>31</td>\n",
       "      <td>Yes</td>\n",
       "      <td>Travel_Frequently</td>\n",
       "      <td>Research &amp; Development</td>\n",
       "      <td>10</td>\n",
       "      <td>1</td>\n",
       "      <td>Life Sciences</td>\n",
       "      <td>1</td>\n",
       "      <td>2</td>\n",
       "      <td>Female</td>\n",
       "      <td>...</td>\n",
       "      <td>0.0</td>\n",
       "      <td>Y</td>\n",
       "      <td>23</td>\n",
       "      <td>8</td>\n",
       "      <td>1</td>\n",
       "      <td>6.0</td>\n",
       "      <td>3</td>\n",
       "      <td>5</td>\n",
       "      <td>1</td>\n",
       "      <td>4</td>\n",
       "    </tr>\n",
       "    <tr>\n",
       "      <th>2</th>\n",
       "      <td>32</td>\n",
       "      <td>No</td>\n",
       "      <td>Travel_Frequently</td>\n",
       "      <td>Research &amp; Development</td>\n",
       "      <td>17</td>\n",
       "      <td>4</td>\n",
       "      <td>Other</td>\n",
       "      <td>1</td>\n",
       "      <td>3</td>\n",
       "      <td>Male</td>\n",
       "      <td>...</td>\n",
       "      <td>1.0</td>\n",
       "      <td>Y</td>\n",
       "      <td>15</td>\n",
       "      <td>8</td>\n",
       "      <td>3</td>\n",
       "      <td>5.0</td>\n",
       "      <td>2</td>\n",
       "      <td>5</td>\n",
       "      <td>0</td>\n",
       "      <td>3</td>\n",
       "    </tr>\n",
       "    <tr>\n",
       "      <th>3</th>\n",
       "      <td>38</td>\n",
       "      <td>No</td>\n",
       "      <td>Non-Travel</td>\n",
       "      <td>Research &amp; Development</td>\n",
       "      <td>2</td>\n",
       "      <td>5</td>\n",
       "      <td>Life Sciences</td>\n",
       "      <td>1</td>\n",
       "      <td>4</td>\n",
       "      <td>Male</td>\n",
       "      <td>...</td>\n",
       "      <td>3.0</td>\n",
       "      <td>Y</td>\n",
       "      <td>11</td>\n",
       "      <td>8</td>\n",
       "      <td>3</td>\n",
       "      <td>13.0</td>\n",
       "      <td>5</td>\n",
       "      <td>8</td>\n",
       "      <td>7</td>\n",
       "      <td>5</td>\n",
       "    </tr>\n",
       "    <tr>\n",
       "      <th>4</th>\n",
       "      <td>32</td>\n",
       "      <td>No</td>\n",
       "      <td>Travel_Rarely</td>\n",
       "      <td>Research &amp; Development</td>\n",
       "      <td>10</td>\n",
       "      <td>1</td>\n",
       "      <td>Medical</td>\n",
       "      <td>1</td>\n",
       "      <td>5</td>\n",
       "      <td>Male</td>\n",
       "      <td>...</td>\n",
       "      <td>4.0</td>\n",
       "      <td>Y</td>\n",
       "      <td>12</td>\n",
       "      <td>8</td>\n",
       "      <td>2</td>\n",
       "      <td>9.0</td>\n",
       "      <td>2</td>\n",
       "      <td>6</td>\n",
       "      <td>0</td>\n",
       "      <td>4</td>\n",
       "    </tr>\n",
       "  </tbody>\n",
       "</table>\n",
       "<p>5 rows × 24 columns</p>\n",
       "</div>"
      ],
      "text/plain": [
       "   Age Attrition     BusinessTravel              Department  DistanceFromHome  \\\n",
       "0   51        No      Travel_Rarely                   Sales                 6   \n",
       "1   31       Yes  Travel_Frequently  Research & Development                10   \n",
       "2   32        No  Travel_Frequently  Research & Development                17   \n",
       "3   38        No         Non-Travel  Research & Development                 2   \n",
       "4   32        No      Travel_Rarely  Research & Development                10   \n",
       "\n",
       "   Education EducationField  EmployeeCount  EmployeeID  Gender  ...  \\\n",
       "0          2  Life Sciences              1           1  Female  ...   \n",
       "1          1  Life Sciences              1           2  Female  ...   \n",
       "2          4          Other              1           3    Male  ...   \n",
       "3          5  Life Sciences              1           4    Male  ...   \n",
       "4          1        Medical              1           5    Male  ...   \n",
       "\n",
       "   NumCompaniesWorked Over18 PercentSalaryHike  StandardHours  \\\n",
       "0                 1.0      Y                11              8   \n",
       "1                 0.0      Y                23              8   \n",
       "2                 1.0      Y                15              8   \n",
       "3                 3.0      Y                11              8   \n",
       "4                 4.0      Y                12              8   \n",
       "\n",
       "   StockOptionLevel TotalWorkingYears  TrainingTimesLastYear  YearsAtCompany  \\\n",
       "0                 0               1.0                      6               1   \n",
       "1                 1               6.0                      3               5   \n",
       "2                 3               5.0                      2               5   \n",
       "3                 3              13.0                      5               8   \n",
       "4                 2               9.0                      2               6   \n",
       "\n",
       "   YearsSinceLastPromotion  YearsWithCurrManager  \n",
       "0                        0                     0  \n",
       "1                        1                     4  \n",
       "2                        0                     3  \n",
       "3                        7                     5  \n",
       "4                        0                     4  \n",
       "\n",
       "[5 rows x 24 columns]"
      ]
     },
     "execution_count": 3,
     "metadata": {},
     "output_type": "execute_result"
    }
   ],
   "source": [
    "data.head()"
   ]
  },
  {
   "cell_type": "code",
   "execution_count": 4,
   "metadata": {},
   "outputs": [
    {
     "data": {
      "text/html": [
       "<div>\n",
       "<style scoped>\n",
       "    .dataframe tbody tr th:only-of-type {\n",
       "        vertical-align: middle;\n",
       "    }\n",
       "\n",
       "    .dataframe tbody tr th {\n",
       "        vertical-align: top;\n",
       "    }\n",
       "\n",
       "    .dataframe thead th {\n",
       "        text-align: right;\n",
       "    }\n",
       "</style>\n",
       "<table border=\"1\" class=\"dataframe\">\n",
       "  <thead>\n",
       "    <tr style=\"text-align: right;\">\n",
       "      <th></th>\n",
       "      <th>Age</th>\n",
       "      <th>DistanceFromHome</th>\n",
       "      <th>Education</th>\n",
       "      <th>EmployeeCount</th>\n",
       "      <th>EmployeeID</th>\n",
       "      <th>JobLevel</th>\n",
       "      <th>MonthlyIncome</th>\n",
       "      <th>NumCompaniesWorked</th>\n",
       "      <th>PercentSalaryHike</th>\n",
       "      <th>StandardHours</th>\n",
       "      <th>StockOptionLevel</th>\n",
       "      <th>TotalWorkingYears</th>\n",
       "      <th>TrainingTimesLastYear</th>\n",
       "      <th>YearsAtCompany</th>\n",
       "      <th>YearsSinceLastPromotion</th>\n",
       "      <th>YearsWithCurrManager</th>\n",
       "    </tr>\n",
       "  </thead>\n",
       "  <tbody>\n",
       "    <tr>\n",
       "      <th>count</th>\n",
       "      <td>4410.000000</td>\n",
       "      <td>4410.000000</td>\n",
       "      <td>4410.000000</td>\n",
       "      <td>4410.0</td>\n",
       "      <td>4410.000000</td>\n",
       "      <td>4410.000000</td>\n",
       "      <td>4410.000000</td>\n",
       "      <td>4391.000000</td>\n",
       "      <td>4410.000000</td>\n",
       "      <td>4410.0</td>\n",
       "      <td>4410.000000</td>\n",
       "      <td>4401.000000</td>\n",
       "      <td>4410.000000</td>\n",
       "      <td>4410.000000</td>\n",
       "      <td>4410.000000</td>\n",
       "      <td>4410.000000</td>\n",
       "    </tr>\n",
       "    <tr>\n",
       "      <th>mean</th>\n",
       "      <td>36.923810</td>\n",
       "      <td>9.192517</td>\n",
       "      <td>2.912925</td>\n",
       "      <td>1.0</td>\n",
       "      <td>2205.500000</td>\n",
       "      <td>2.063946</td>\n",
       "      <td>65029.312925</td>\n",
       "      <td>2.694830</td>\n",
       "      <td>15.209524</td>\n",
       "      <td>8.0</td>\n",
       "      <td>0.793878</td>\n",
       "      <td>11.279936</td>\n",
       "      <td>2.799320</td>\n",
       "      <td>7.008163</td>\n",
       "      <td>2.187755</td>\n",
       "      <td>4.123129</td>\n",
       "    </tr>\n",
       "    <tr>\n",
       "      <th>std</th>\n",
       "      <td>9.133301</td>\n",
       "      <td>8.105026</td>\n",
       "      <td>1.023933</td>\n",
       "      <td>0.0</td>\n",
       "      <td>1273.201673</td>\n",
       "      <td>1.106689</td>\n",
       "      <td>47068.888559</td>\n",
       "      <td>2.498887</td>\n",
       "      <td>3.659108</td>\n",
       "      <td>0.0</td>\n",
       "      <td>0.851883</td>\n",
       "      <td>7.782222</td>\n",
       "      <td>1.288978</td>\n",
       "      <td>6.125135</td>\n",
       "      <td>3.221699</td>\n",
       "      <td>3.567327</td>\n",
       "    </tr>\n",
       "    <tr>\n",
       "      <th>min</th>\n",
       "      <td>18.000000</td>\n",
       "      <td>1.000000</td>\n",
       "      <td>1.000000</td>\n",
       "      <td>1.0</td>\n",
       "      <td>1.000000</td>\n",
       "      <td>1.000000</td>\n",
       "      <td>10090.000000</td>\n",
       "      <td>0.000000</td>\n",
       "      <td>11.000000</td>\n",
       "      <td>8.0</td>\n",
       "      <td>0.000000</td>\n",
       "      <td>0.000000</td>\n",
       "      <td>0.000000</td>\n",
       "      <td>0.000000</td>\n",
       "      <td>0.000000</td>\n",
       "      <td>0.000000</td>\n",
       "    </tr>\n",
       "    <tr>\n",
       "      <th>25%</th>\n",
       "      <td>30.000000</td>\n",
       "      <td>2.000000</td>\n",
       "      <td>2.000000</td>\n",
       "      <td>1.0</td>\n",
       "      <td>1103.250000</td>\n",
       "      <td>1.000000</td>\n",
       "      <td>29110.000000</td>\n",
       "      <td>1.000000</td>\n",
       "      <td>12.000000</td>\n",
       "      <td>8.0</td>\n",
       "      <td>0.000000</td>\n",
       "      <td>6.000000</td>\n",
       "      <td>2.000000</td>\n",
       "      <td>3.000000</td>\n",
       "      <td>0.000000</td>\n",
       "      <td>2.000000</td>\n",
       "    </tr>\n",
       "    <tr>\n",
       "      <th>50%</th>\n",
       "      <td>36.000000</td>\n",
       "      <td>7.000000</td>\n",
       "      <td>3.000000</td>\n",
       "      <td>1.0</td>\n",
       "      <td>2205.500000</td>\n",
       "      <td>2.000000</td>\n",
       "      <td>49190.000000</td>\n",
       "      <td>2.000000</td>\n",
       "      <td>14.000000</td>\n",
       "      <td>8.0</td>\n",
       "      <td>1.000000</td>\n",
       "      <td>10.000000</td>\n",
       "      <td>3.000000</td>\n",
       "      <td>5.000000</td>\n",
       "      <td>1.000000</td>\n",
       "      <td>3.000000</td>\n",
       "    </tr>\n",
       "    <tr>\n",
       "      <th>75%</th>\n",
       "      <td>43.000000</td>\n",
       "      <td>14.000000</td>\n",
       "      <td>4.000000</td>\n",
       "      <td>1.0</td>\n",
       "      <td>3307.750000</td>\n",
       "      <td>3.000000</td>\n",
       "      <td>83800.000000</td>\n",
       "      <td>4.000000</td>\n",
       "      <td>18.000000</td>\n",
       "      <td>8.0</td>\n",
       "      <td>1.000000</td>\n",
       "      <td>15.000000</td>\n",
       "      <td>3.000000</td>\n",
       "      <td>9.000000</td>\n",
       "      <td>3.000000</td>\n",
       "      <td>7.000000</td>\n",
       "    </tr>\n",
       "    <tr>\n",
       "      <th>max</th>\n",
       "      <td>60.000000</td>\n",
       "      <td>29.000000</td>\n",
       "      <td>5.000000</td>\n",
       "      <td>1.0</td>\n",
       "      <td>4410.000000</td>\n",
       "      <td>5.000000</td>\n",
       "      <td>199990.000000</td>\n",
       "      <td>9.000000</td>\n",
       "      <td>25.000000</td>\n",
       "      <td>8.0</td>\n",
       "      <td>3.000000</td>\n",
       "      <td>40.000000</td>\n",
       "      <td>6.000000</td>\n",
       "      <td>40.000000</td>\n",
       "      <td>15.000000</td>\n",
       "      <td>17.000000</td>\n",
       "    </tr>\n",
       "  </tbody>\n",
       "</table>\n",
       "</div>"
      ],
      "text/plain": [
       "               Age  DistanceFromHome    Education  EmployeeCount   EmployeeID  \\\n",
       "count  4410.000000       4410.000000  4410.000000         4410.0  4410.000000   \n",
       "mean     36.923810          9.192517     2.912925            1.0  2205.500000   \n",
       "std       9.133301          8.105026     1.023933            0.0  1273.201673   \n",
       "min      18.000000          1.000000     1.000000            1.0     1.000000   \n",
       "25%      30.000000          2.000000     2.000000            1.0  1103.250000   \n",
       "50%      36.000000          7.000000     3.000000            1.0  2205.500000   \n",
       "75%      43.000000         14.000000     4.000000            1.0  3307.750000   \n",
       "max      60.000000         29.000000     5.000000            1.0  4410.000000   \n",
       "\n",
       "          JobLevel  MonthlyIncome  NumCompaniesWorked  PercentSalaryHike  \\\n",
       "count  4410.000000    4410.000000         4391.000000        4410.000000   \n",
       "mean      2.063946   65029.312925            2.694830          15.209524   \n",
       "std       1.106689   47068.888559            2.498887           3.659108   \n",
       "min       1.000000   10090.000000            0.000000          11.000000   \n",
       "25%       1.000000   29110.000000            1.000000          12.000000   \n",
       "50%       2.000000   49190.000000            2.000000          14.000000   \n",
       "75%       3.000000   83800.000000            4.000000          18.000000   \n",
       "max       5.000000  199990.000000            9.000000          25.000000   \n",
       "\n",
       "       StandardHours  StockOptionLevel  TotalWorkingYears  \\\n",
       "count         4410.0       4410.000000        4401.000000   \n",
       "mean             8.0          0.793878          11.279936   \n",
       "std              0.0          0.851883           7.782222   \n",
       "min              8.0          0.000000           0.000000   \n",
       "25%              8.0          0.000000           6.000000   \n",
       "50%              8.0          1.000000          10.000000   \n",
       "75%              8.0          1.000000          15.000000   \n",
       "max              8.0          3.000000          40.000000   \n",
       "\n",
       "       TrainingTimesLastYear  YearsAtCompany  YearsSinceLastPromotion  \\\n",
       "count            4410.000000     4410.000000              4410.000000   \n",
       "mean                2.799320        7.008163                 2.187755   \n",
       "std                 1.288978        6.125135                 3.221699   \n",
       "min                 0.000000        0.000000                 0.000000   \n",
       "25%                 2.000000        3.000000                 0.000000   \n",
       "50%                 3.000000        5.000000                 1.000000   \n",
       "75%                 3.000000        9.000000                 3.000000   \n",
       "max                 6.000000       40.000000                15.000000   \n",
       "\n",
       "       YearsWithCurrManager  \n",
       "count           4410.000000  \n",
       "mean               4.123129  \n",
       "std                3.567327  \n",
       "min                0.000000  \n",
       "25%                2.000000  \n",
       "50%                3.000000  \n",
       "75%                7.000000  \n",
       "max               17.000000  "
      ]
     },
     "execution_count": 4,
     "metadata": {},
     "output_type": "execute_result"
    }
   ],
   "source": [
    "data.describe()"
   ]
  },
  {
   "cell_type": "markdown",
   "metadata": {},
   "source": [
    "**From this describe function we can say that three columns are not required in our dataset as follows:** <br />\n",
    "\n",
    "- 1. StandardHours: As there is same value in all the rows in column Standard Hours (i.e. 8) so we have to drop it.\n",
    "- 2. Employee ID: As all the values of this column is unique we have to drop it.\n",
    "- 3. Employee Count: As the all values of Employee count column is 1 we have to drop it.\n",
    "- 4. Over18: Over18 column should be dropped as all the employees are over18."
   ]
  },
  {
   "cell_type": "code",
   "execution_count": 5,
   "metadata": {},
   "outputs": [],
   "source": [
    "data = data.drop(['StandardHours', 'EmployeeCount', 'EmployeeID', 'Over18'], axis=1)"
   ]
  },
  {
   "cell_type": "code",
   "execution_count": 6,
   "metadata": {},
   "outputs": [
    {
     "data": {
      "text/plain": [
       "(4410, 20)"
      ]
     },
     "execution_count": 6,
     "metadata": {},
     "output_type": "execute_result"
    }
   ],
   "source": [
    "data.shape"
   ]
  },
  {
   "cell_type": "markdown",
   "metadata": {},
   "source": [
    "## Removing Null Values"
   ]
  },
  {
   "cell_type": "code",
   "execution_count": 7,
   "metadata": {},
   "outputs": [
    {
     "data": {
      "text/plain": [
       "Age                         0\n",
       "Attrition                   0\n",
       "BusinessTravel              0\n",
       "Department                  0\n",
       "DistanceFromHome            0\n",
       "Education                   0\n",
       "EducationField              0\n",
       "Gender                      0\n",
       "JobLevel                    0\n",
       "JobRole                     0\n",
       "MaritalStatus               0\n",
       "MonthlyIncome               0\n",
       "NumCompaniesWorked         19\n",
       "PercentSalaryHike           0\n",
       "StockOptionLevel            0\n",
       "TotalWorkingYears           9\n",
       "TrainingTimesLastYear       0\n",
       "YearsAtCompany              0\n",
       "YearsSinceLastPromotion     0\n",
       "YearsWithCurrManager        0\n",
       "dtype: int64"
      ]
     },
     "execution_count": 7,
     "metadata": {},
     "output_type": "execute_result"
    }
   ],
   "source": [
    "data.isnull().sum()"
   ]
  },
  {
   "cell_type": "code",
   "execution_count": 8,
   "metadata": {},
   "outputs": [],
   "source": [
    "data.dropna(inplace=True)"
   ]
  },
  {
   "cell_type": "code",
   "execution_count": 9,
   "metadata": {},
   "outputs": [
    {
     "data": {
      "text/plain": [
       "Age                        0\n",
       "Attrition                  0\n",
       "BusinessTravel             0\n",
       "Department                 0\n",
       "DistanceFromHome           0\n",
       "Education                  0\n",
       "EducationField             0\n",
       "Gender                     0\n",
       "JobLevel                   0\n",
       "JobRole                    0\n",
       "MaritalStatus              0\n",
       "MonthlyIncome              0\n",
       "NumCompaniesWorked         0\n",
       "PercentSalaryHike          0\n",
       "StockOptionLevel           0\n",
       "TotalWorkingYears          0\n",
       "TrainingTimesLastYear      0\n",
       "YearsAtCompany             0\n",
       "YearsSinceLastPromotion    0\n",
       "YearsWithCurrManager       0\n",
       "dtype: int64"
      ]
     },
     "execution_count": 9,
     "metadata": {},
     "output_type": "execute_result"
    }
   ],
   "source": [
    "data.isnull().sum()"
   ]
  },
  {
   "cell_type": "markdown",
   "metadata": {},
   "source": [
    "## Univariate analysis of Categorical Variables"
   ]
  },
  {
   "cell_type": "code",
   "execution_count": 10,
   "metadata": {},
   "outputs": [
    {
     "data": {
      "text/plain": [
       "Age                       -0.409517\n",
       "DistanceFromHome          -0.230691\n",
       "Education                 -0.565008\n",
       "JobLevel                   0.388189\n",
       "MonthlyIncome              0.990836\n",
       "NumCompaniesWorked         0.014307\n",
       "PercentSalaryHike         -0.306951\n",
       "StockOptionLevel           0.356755\n",
       "TotalWorkingYears          0.909316\n",
       "TrainingTimesLastYear      0.494215\n",
       "YearsAtCompany             3.930726\n",
       "YearsSinceLastPromotion    3.592162\n",
       "YearsWithCurrManager       0.170703\n",
       "dtype: float64"
      ]
     },
     "execution_count": 10,
     "metadata": {},
     "output_type": "execute_result"
    }
   ],
   "source": [
    "data.kurt()"
   ]
  },
  {
   "cell_type": "markdown",
   "metadata": {},
   "source": [
    "**Inferences from above univariate Analysis**\n",
    "\n",
    "- Age, DistanceFromHome and PercentSalaryHike are Platykurtic as their peakness is negative.\n",
    "- MonthlyIncome, NumCompaniesWorked, TotalWorkingYears, TrainingtimesLastyear, YearsWithCurrManager are Leptokurtic.\n",
    "- YearsAtCompany and YearsSinceLastPromotion are highly Leptokurtic as there values are higher than 3. "
   ]
  },
  {
   "cell_type": "code",
   "execution_count": 11,
   "metadata": {},
   "outputs": [
    {
     "data": {
      "text/plain": [
       "Age                        0.413048\n",
       "DistanceFromHome           0.955517\n",
       "Education                 -0.288977\n",
       "JobLevel                   1.021797\n",
       "MonthlyIncome              1.367457\n",
       "NumCompaniesWorked         1.029174\n",
       "PercentSalaryHike          0.819510\n",
       "StockOptionLevel           0.967263\n",
       "TotalWorkingYears          1.115419\n",
       "TrainingTimesLastYear      0.551818\n",
       "YearsAtCompany             1.764619\n",
       "YearsSinceLastPromotion    1.980992\n",
       "YearsWithCurrManager       0.834277\n",
       "dtype: float64"
      ]
     },
     "execution_count": 11,
     "metadata": {},
     "output_type": "execute_result"
    }
   ],
   "source": [
    "data.skew()"
   ]
  },
  {
   "cell_type": "markdown",
   "metadata": {},
   "source": [
    "**Inferences from above univariate Analysis**\n",
    "\n",
    "- Age is almost normally distributed as it's skewness lies between -0.5 and 0.5.\n",
    "- DistanceFromHome, PercentSalaryHike, TrainingTimesLastYear, YearWithCurrManager are moderately positively skewed.\n",
    "- JobLevel, MonthlyIncome, NumCompaniesWorked, TotalWorkingYears, YearsAtCompany, YearsSinceLastPromotion are highly positively skewed as there skewness is more than 1."
   ]
  },
  {
   "cell_type": "markdown",
   "metadata": {},
   "source": [
    "**Univariate Analysis of Categorical Variables**"
   ]
  },
  {
   "cell_type": "code",
   "execution_count": 12,
   "metadata": {},
   "outputs": [
    {
     "data": {
      "text/plain": [
       "<matplotlib.axes._subplots.AxesSubplot at 0x22f97ca4c08>"
      ]
     },
     "execution_count": 12,
     "metadata": {},
     "output_type": "execute_result"
    },
    {
     "data": {
      "image/png": "[encoded data removed]",
      "text/plain": [
       "<Figure size 432x288 with 1 Axes>"
      ]
     },
     "metadata": {
      "needs_background": "light"
     },
     "output_type": "display_data"
    }
   ],
   "source": [
    "data.Attrition.value_counts().plot.bar()"
   ]
  },
  {
   "cell_type": "code",
   "execution_count": 13,
   "metadata": {},
   "outputs": [
    {
     "data": {
      "text/plain": [
       "No     0.839115\n",
       "Yes    0.160885\n",
       "Name: Attrition, dtype: float64"
      ]
     },
     "execution_count": 13,
     "metadata": {},
     "output_type": "execute_result"
    }
   ],
   "source": [
    "data.Attrition.value_counts()/len(data.Attrition)"
   ]
  },
  {
   "cell_type": "markdown",
   "metadata": {},
   "source": [
    "From above analysis we can conclude that Attrition rate is around is 16%"
   ]
  },
  {
   "cell_type": "code",
   "execution_count": 14,
   "metadata": {},
   "outputs": [
    {
     "data": {
      "text/plain": [
       "<matplotlib.axes._subplots.AxesSubplot at 0x22f97d8c648>"
      ]
     },
     "execution_count": 14,
     "metadata": {},
     "output_type": "execute_result"
    },
    {
     "data": {
      "image/png": "[encoded data removed]",
      "text/plain": [
       "<Figure size 432x288 with 1 Axes>"
      ]
     },
     "metadata": {
      "needs_background": "light"
     },
     "output_type": "display_data"
    }
   ],
   "source": [
    "data.BusinessTravel.value_counts().plot.bar()"
   ]
  },
  {
   "cell_type": "markdown",
   "metadata": {},
   "source": [
    "From above we can conclude that Frequency of Employees who have travel rarely are more"
   ]
  },
  {
   "cell_type": "code",
   "execution_count": 15,
   "metadata": {},
   "outputs": [
    {
     "data": {
      "text/plain": [
       "Research & Development    0.653811\n",
       "Sales                     0.303514\n",
       "Human Resources           0.042675\n",
       "Name: Department, dtype: float64"
      ]
     },
     "execution_count": 15,
     "metadata": {},
     "output_type": "execute_result"
    }
   ],
   "source": [
    "data.Department.value_counts()/len(data.Department)"
   ]
  },
  {
   "cell_type": "markdown",
   "metadata": {},
   "source": [
    "65% working Employees are from Research and Development Department"
   ]
  },
  {
   "cell_type": "code",
   "execution_count": 16,
   "metadata": {},
   "outputs": [
    {
     "data": {
      "text/plain": [
       "<matplotlib.axes._subplots.AxesSubplot at 0x22f97698f08>"
      ]
     },
     "execution_count": 16,
     "metadata": {},
     "output_type": "execute_result"
    },
    {
     "data": {
      "image/png": "[encoded data removed]",
      "text/plain": [
       "<Figure size 432x288 with 1 Axes>"
      ]
     },
     "metadata": {
      "needs_background": "light"
     },
     "output_type": "display_data"
    }
   ],
   "source": [
    "data.Department.value_counts().plot.bar()"
   ]
  },
  {
   "cell_type": "code",
   "execution_count": 17,
   "metadata": {},
   "outputs": [
    {
     "data": {
      "text/plain": [
       "3    0.388179\n",
       "4    0.271109\n",
       "2    0.192150\n",
       "1    0.115929\n",
       "5    0.032634\n",
       "Name: Education, dtype: float64"
      ]
     },
     "execution_count": 17,
     "metadata": {},
     "output_type": "execute_result"
    }
   ],
   "source": [
    "data.Education.value_counts()/len(data.Education)"
   ]
  },
  {
   "cell_type": "code",
   "execution_count": 18,
   "metadata": {},
   "outputs": [
    {
     "data": {
      "text/plain": [
       "<matplotlib.axes._subplots.AxesSubplot at 0x22f97e86048>"
      ]
     },
     "execution_count": 18,
     "metadata": {},
     "output_type": "execute_result"
    },
    {
     "data": {
      "image/png": "[encoded data removed]",
      "text/plain": [
       "<Figure size 432x288 with 1 Axes>"
      ]
     },
     "metadata": {
      "needs_background": "light"
     },
     "output_type": "display_data"
    }
   ],
   "source": [
    "data.Education.value_counts().plot.bar()"
   ]
  },
  {
   "cell_type": "markdown",
   "metadata": {},
   "source": [
    "From above analysis we can conclude that 38% Employees have Bachelors Degree (3)"
   ]
  },
  {
   "cell_type": "code",
   "execution_count": 19,
   "metadata": {},
   "outputs": [
    {
     "data": {
      "text/plain": [
       "Life Sciences       0.412141\n",
       "Medical             0.316066\n",
       "Marketing           0.108398\n",
       "Technical Degree    0.089457\n",
       "Other               0.055682\n",
       "Human Resources     0.018257\n",
       "Name: EducationField, dtype: float64"
      ]
     },
     "execution_count": 19,
     "metadata": {},
     "output_type": "execute_result"
    }
   ],
   "source": [
    "data.EducationField.value_counts()/len(data.EducationField)"
   ]
  },
  {
   "cell_type": "code",
   "execution_count": 20,
   "metadata": {},
   "outputs": [
    {
     "data": {
      "text/plain": [
       "<matplotlib.axes._subplots.AxesSubplot at 0x22f97efc608>"
      ]
     },
     "execution_count": 20,
     "metadata": {},
     "output_type": "execute_result"
    },
    {
     "data": {
      "image/png": "[encoded data removed]",
      "text/plain": [
       "<Figure size 432x288 with 1 Axes>"
      ]
     },
     "metadata": {
      "needs_background": "light"
     },
     "output_type": "display_data"
    }
   ],
   "source": [
    "data.EducationField.value_counts().plot.bar()"
   ]
  },
  {
   "cell_type": "markdown",
   "metadata": {},
   "source": [
    "From above analysis we can conclude that 41% employees are from Life Sciences and around 73% Employees are from Life Sciences and Medical."
   ]
  },
  {
   "cell_type": "code",
   "execution_count": 21,
   "metadata": {},
   "outputs": [
    {
     "data": {
      "text/plain": [
       "Male      0.59927\n",
       "Female    0.40073\n",
       "Name: Gender, dtype: float64"
      ]
     },
     "execution_count": 21,
     "metadata": {},
     "output_type": "execute_result"
    }
   ],
   "source": [
    "data.Gender.value_counts()/len(data.Gender)"
   ]
  },
  {
   "cell_type": "code",
   "execution_count": 22,
   "metadata": {},
   "outputs": [
    {
     "data": {
      "text/plain": [
       "<matplotlib.axes._subplots.AxesSubplot at 0x22f98f2d708>"
      ]
     },
     "execution_count": 22,
     "metadata": {},
     "output_type": "execute_result"
    },
    {
     "data": {
      "image/png": "[encoded data removed]",
      "text/plain": [
       "<Figure size 432x288 with 1 Axes>"
      ]
     },
     "metadata": {
      "needs_background": "light"
     },
     "output_type": "display_data"
    }
   ],
   "source": [
    "data.Gender.value_counts().plot.bar()"
   ]
  },
  {
   "cell_type": "markdown",
   "metadata": {},
   "source": [
    "From above analysis we can conclude that there are 59% Employees are Male and other 41% are Females."
   ]
  },
  {
   "cell_type": "code",
   "execution_count": 23,
   "metadata": {},
   "outputs": [
    {
     "data": {
      "text/plain": [
       "1    0.369466\n",
       "2    0.362848\n",
       "3    0.148562\n",
       "4    0.072570\n",
       "5    0.046554\n",
       "Name: JobLevel, dtype: float64"
      ]
     },
     "execution_count": 23,
     "metadata": {},
     "output_type": "execute_result"
    }
   ],
   "source": [
    "data.JobLevel.value_counts()/len(data.JobLevel)"
   ]
  },
  {
   "cell_type": "code",
   "execution_count": 24,
   "metadata": {},
   "outputs": [
    {
     "data": {
      "text/plain": [
       "<matplotlib.axes._subplots.AxesSubplot at 0x22f97a948c8>"
      ]
     },
     "execution_count": 24,
     "metadata": {},
     "output_type": "execute_result"
    },
    {
     "data": {
      "image/png": "[encoded data removed]",
      "text/plain": [
       "<Figure size 432x288 with 1 Axes>"
      ]
     },
     "metadata": {
      "needs_background": "light"
     },
     "output_type": "display_data"
    }
   ],
   "source": [
    "data.JobLevel.value_counts().plot.bar()"
   ]
  },
  {
   "cell_type": "markdown",
   "metadata": {},
   "source": [
    "From above we can conclude that there are 73% employees with level 1 and level 2 Job."
   ]
  },
  {
   "cell_type": "code",
   "execution_count": 25,
   "metadata": {},
   "outputs": [
    {
     "data": {
      "text/plain": [
       "Sales Executive              0.222501\n",
       "Research Scientist           0.198996\n",
       "Laboratory Technician        0.176403\n",
       "Manufacturing Director       0.097901\n",
       "Healthcare Representative    0.088772\n",
       "Manager                      0.069603\n",
       "Sales Representative         0.056139\n",
       "Research Director            0.054085\n",
       "Human Resources              0.035600\n",
       "Name: JobRole, dtype: float64"
      ]
     },
     "execution_count": 25,
     "metadata": {},
     "output_type": "execute_result"
    }
   ],
   "source": [
    "data.JobRole.value_counts()/len(data.JobRole)"
   ]
  },
  {
   "cell_type": "code",
   "execution_count": 26,
   "metadata": {},
   "outputs": [
    {
     "data": {
      "text/plain": [
       "<matplotlib.axes._subplots.AxesSubplot at 0x22f99025b08>"
      ]
     },
     "execution_count": 26,
     "metadata": {},
     "output_type": "execute_result"
    },
    {
     "data": {
      "image/png": "[encoded data removed]",
      "text/plain": [
       "<Figure size 432x288 with 1 Axes>"
      ]
     },
     "metadata": {
      "needs_background": "light"
     },
     "output_type": "display_data"
    }
   ],
   "source": [
    "data.JobRole.value_counts().plot.bar()"
   ]
  },
  {
   "cell_type": "markdown",
   "metadata": {},
   "source": [
    "Most of the employees in the company are working as Sales Executive, Research Scientist and Laboratory Technician."
   ]
  },
  {
   "cell_type": "code",
   "execution_count": 27,
   "metadata": {},
   "outputs": [
    {
     "data": {
      "text/plain": [
       "Married     0.45801\n",
       "Single      0.32063\n",
       "Divorced    0.22136\n",
       "Name: MaritalStatus, dtype: float64"
      ]
     },
     "execution_count": 27,
     "metadata": {},
     "output_type": "execute_result"
    }
   ],
   "source": [
    "data.MaritalStatus.value_counts()/len(data.MaritalStatus)"
   ]
  },
  {
   "cell_type": "code",
   "execution_count": 28,
   "metadata": {},
   "outputs": [
    {
     "data": {
      "text/plain": [
       "<matplotlib.axes._subplots.AxesSubplot at 0x22f99098688>"
      ]
     },
     "execution_count": 28,
     "metadata": {},
     "output_type": "execute_result"
    },
    {
     "data": {
      "image/png": "[encoded data removed]",
      "text/plain": [
       "<Figure size 432x288 with 1 Axes>"
      ]
     },
     "metadata": {
      "needs_background": "light"
     },
     "output_type": "display_data"
    }
   ],
   "source": [
    "data.MaritalStatus.value_counts().plot.bar()"
   ]
  },
  {
   "cell_type": "markdown",
   "metadata": {},
   "source": [
    "From above analysis we can conclude that around 45% employees in the company are married  "
   ]
  },
  {
   "cell_type": "code",
   "execution_count": 29,
   "metadata": {},
   "outputs": [
    {
     "data": {
      "text/plain": [
       "0    0.429028\n",
       "1    0.405294\n",
       "2    0.107713\n",
       "3    0.057964\n",
       "Name: StockOptionLevel, dtype: float64"
      ]
     },
     "execution_count": 29,
     "metadata": {},
     "output_type": "execute_result"
    }
   ],
   "source": [
    "data.StockOptionLevel.value_counts()/len(data.StockOptionLevel)"
   ]
  },
  {
   "cell_type": "code",
   "execution_count": 30,
   "metadata": {},
   "outputs": [
    {
     "data": {
      "text/plain": [
       "<matplotlib.axes._subplots.AxesSubplot at 0x22f9911a188>"
      ]
     },
     "execution_count": 30,
     "metadata": {},
     "output_type": "execute_result"
    },
    {
     "data": {
      "image/png": "[encoded data removed]",
      "text/plain": [
       "<Figure size 432x288 with 1 Axes>"
      ]
     },
     "metadata": {
      "needs_background": "light"
     },
     "output_type": "display_data"
    }
   ],
   "source": [
    "data.StockOptionLevel.value_counts().plot.bar()"
   ]
  },
  {
   "cell_type": "markdown",
   "metadata": {},
   "source": [
    "From above analysis we can conclude that around 82% Employees have 0 or 1 Stock Option Level."
   ]
  },
  {
   "cell_type": "markdown",
   "metadata": {},
   "source": [
    "## Univariate Analysis on Continous Variable"
   ]
  },
  {
   "cell_type": "code",
   "execution_count": 31,
   "metadata": {},
   "outputs": [
    {
     "data": {
      "text/plain": [
       "{'whiskers': [<matplotlib.lines.Line2D at 0x22f991ae088>,\n",
       "  <matplotlib.lines.Line2D at 0x22f991bdfc8>],\n",
       " 'caps': [<matplotlib.lines.Line2D at 0x22f991bdc08>,\n",
       "  <matplotlib.lines.Line2D at 0x22f991c2b08>],\n",
       " 'boxes': [<matplotlib.lines.Line2D at 0x22f991bba08>],\n",
       " 'medians': [<matplotlib.lines.Line2D at 0x22f991c2c08>],\n",
       " 'fliers': [<matplotlib.lines.Line2D at 0x22f991c8948>],\n",
       " 'means': []}"
      ]
     },
     "execution_count": 31,
     "metadata": {},
     "output_type": "execute_result"
    },
    {
     "data": {
      "image/png": "[encoded data removed]",
      "text/plain": [
       "<Figure size 432x288 with 1 Axes>"
      ]
     },
     "metadata": {
      "needs_background": "light"
     },
     "output_type": "display_data"
    }
   ],
   "source": [
    "plt.boxplot(data.Age)"
   ]
  },
  {
   "cell_type": "markdown",
   "metadata": {},
   "source": [
    "There are no outlies and data is almost normally distributed"
   ]
  },
  {
   "cell_type": "code",
   "execution_count": 32,
   "metadata": {},
   "outputs": [
    {
     "data": {
      "text/plain": [
       "{'whiskers': [<matplotlib.lines.Line2D at 0x22f99223fc8>,\n",
       "  <matplotlib.lines.Line2D at 0x22f992277c8>],\n",
       " 'caps': [<matplotlib.lines.Line2D at 0x22f99227f88>,\n",
       "  <matplotlib.lines.Line2D at 0x22f9922b748>],\n",
       " 'boxes': [<matplotlib.lines.Line2D at 0x22f992235c8>],\n",
       " 'medians': [<matplotlib.lines.Line2D at 0x22f9922bf08>],\n",
       " 'fliers': [<matplotlib.lines.Line2D at 0x22f992316c8>],\n",
       " 'means': []}"
      ]
     },
     "execution_count": 32,
     "metadata": {},
     "output_type": "execute_result"
    },
    {
     "data": {
      "image/png": "[encoded data removed]",
      "text/plain": [
       "<Figure size 432x288 with 1 Axes>"
      ]
     },
     "metadata": {
      "needs_background": "light"
     },
     "output_type": "display_data"
    }
   ],
   "source": [
    "plt.boxplot(data.DistanceFromHome)"
   ]
  },
  {
   "cell_type": "markdown",
   "metadata": {},
   "source": [
    "DistanceFromHome is Positively Skewed without outliers"
   ]
  },
  {
   "cell_type": "code",
   "execution_count": 33,
   "metadata": {},
   "outputs": [
    {
     "data": {
      "text/plain": [
       "{'whiskers': [<matplotlib.lines.Line2D at 0x22f9928df08>,\n",
       "  <matplotlib.lines.Line2D at 0x22f992918c8>],\n",
       " 'caps': [<matplotlib.lines.Line2D at 0x22f99291f48>,\n",
       "  <matplotlib.lines.Line2D at 0x22f99297848>],\n",
       " 'boxes': [<matplotlib.lines.Line2D at 0x22f9928d748>],\n",
       " 'medians': [<matplotlib.lines.Line2D at 0x22f99297fc8>],\n",
       " 'fliers': [<matplotlib.lines.Line2D at 0x22f9929c7c8>],\n",
       " 'means': []}"
      ]
     },
     "execution_count": 33,
     "metadata": {},
     "output_type": "execute_result"
    },
    {
     "data": {
      "image/png": "[encoded data removed]",
      "text/plain": [
       "<Figure size 432x288 with 1 Axes>"
      ]
     },
     "metadata": {
      "needs_background": "light"
     },
     "output_type": "display_data"
    }
   ],
   "source": [
    "plt.boxplot(data.MonthlyIncome)"
   ]
  },
  {
   "cell_type": "markdown",
   "metadata": {},
   "source": [
    "MonthlyIncome is also positively Skewed with several Outliers"
   ]
  },
  {
   "cell_type": "code",
   "execution_count": 34,
   "metadata": {},
   "outputs": [
    {
     "data": {
      "text/plain": [
       "{'whiskers': [<matplotlib.lines.Line2D at 0x22f992fdc88>,\n",
       "  <matplotlib.lines.Line2D at 0x22f992fdd88>],\n",
       " 'caps': [<matplotlib.lines.Line2D at 0x22f99301c48>,\n",
       "  <matplotlib.lines.Line2D at 0x22f99301d48>],\n",
       " 'boxes': [<matplotlib.lines.Line2D at 0x22f992fd308>],\n",
       " 'medians': [<matplotlib.lines.Line2D at 0x22f99307bc8>],\n",
       " 'fliers': [<matplotlib.lines.Line2D at 0x22f99307cc8>],\n",
       " 'means': []}"
      ]
     },
     "execution_count": 34,
     "metadata": {},
     "output_type": "execute_result"
    },
    {
     "data": {
      "image/png": "[encoded data removed]",
      "text/plain": [
       "<Figure size 432x288 with 1 Axes>"
      ]
     },
     "metadata": {
      "needs_background": "light"
     },
     "output_type": "display_data"
    }
   ],
   "source": [
    "plt.boxplot(data.YearsAtCompany)"
   ]
  },
  {
   "cell_type": "markdown",
   "metadata": {},
   "source": [
    "YearsAtCompany is positively skewed with several outliers"
   ]
  },
  {
   "cell_type": "code",
   "execution_count": 35,
   "metadata": {},
   "outputs": [
    {
     "data": {
      "text/plain": [
       "{'whiskers': [<matplotlib.lines.Line2D at 0x22f9936dfc8>,\n",
       "  <matplotlib.lines.Line2D at 0x22f99372888>],\n",
       " 'caps': [<matplotlib.lines.Line2D at 0x22f99372f88>,\n",
       "  <matplotlib.lines.Line2D at 0x22f99375988>],\n",
       " 'boxes': [<matplotlib.lines.Line2D at 0x22f9936d5c8>],\n",
       " 'medians': [<matplotlib.lines.Line2D at 0x22f99375a88>],\n",
       " 'fliers': [<matplotlib.lines.Line2D at 0x22f9937ba88>],\n",
       " 'means': []}"
      ]
     },
     "execution_count": 35,
     "metadata": {},
     "output_type": "execute_result"
    },
    {
     "data": {
      "image/png": "[encoded data removed]",
      "text/plain": [
       "<Figure size 432x288 with 1 Axes>"
      ]
     },
     "metadata": {
      "needs_background": "light"
     },
     "output_type": "display_data"
    }
   ],
   "source": [
    "plt.boxplot(data.PercentSalaryHike)"
   ]
  },
  {
   "cell_type": "markdown",
   "metadata": {},
   "source": [
    "PercentSalaryHike is positively skewed without outliers"
   ]
  },
  {
   "cell_type": "code",
   "execution_count": 36,
   "metadata": {},
   "outputs": [
    {
     "data": {
      "text/plain": [
       "{'whiskers': [<matplotlib.lines.Line2D at 0x22f993d6e88>,\n",
       "  <matplotlib.lines.Line2D at 0x22f993da908>],\n",
       " 'caps': [<matplotlib.lines.Line2D at 0x22f993daa08>,\n",
       "  <matplotlib.lines.Line2D at 0x22f993dfa08>],\n",
       " 'boxes': [<matplotlib.lines.Line2D at 0x22f993d6588>],\n",
       " 'medians': [<matplotlib.lines.Line2D at 0x22f993dfb08>],\n",
       " 'fliers': [<matplotlib.lines.Line2D at 0x22f993e4b48>],\n",
       " 'means': []}"
      ]
     },
     "execution_count": 36,
     "metadata": {},
     "output_type": "execute_result"
    },
    {
     "data": {
      "image/png": "[encoded data removed]",
      "text/plain": [
       "<Figure size 432x288 with 1 Axes>"
      ]
     },
     "metadata": {
      "needs_background": "light"
     },
     "output_type": "display_data"
    }
   ],
   "source": [
    "plt.boxplot(data.YearsSinceLastPromotion)"
   ]
  },
  {
   "cell_type": "markdown",
   "metadata": {},
   "source": [
    "YearsSinceLastPromotion is positively skewed with several outliers"
   ]
  },
  {
   "cell_type": "code",
   "execution_count": 37,
   "metadata": {},
   "outputs": [
    {
     "data": {
      "text/plain": [
       "{'whiskers': [<matplotlib.lines.Line2D at 0x22f99443cc8>,\n",
       "  <matplotlib.lines.Line2D at 0x22f99443dc8>],\n",
       " 'caps': [<matplotlib.lines.Line2D at 0x22f99448d48>,\n",
       "  <matplotlib.lines.Line2D at 0x22f99448e48>],\n",
       " 'boxes': [<matplotlib.lines.Line2D at 0x22f99443288>],\n",
       " 'medians': [<matplotlib.lines.Line2D at 0x22f9944de48>],\n",
       " 'fliers': [<matplotlib.lines.Line2D at 0x22f9944df48>],\n",
       " 'means': []}"
      ]
     },
     "execution_count": 37,
     "metadata": {},
     "output_type": "execute_result"
    },
    {
     "data": {
      "image/png": "[encoded data removed]",
      "text/plain": [
       "<Figure size 432x288 with 1 Axes>"
      ]
     },
     "metadata": {
      "needs_background": "light"
     },
     "output_type": "display_data"
    }
   ],
   "source": [
    "plt.boxplot(data.TotalWorkingYears)"
   ]
  },
  {
   "cell_type": "markdown",
   "metadata": {},
   "source": [
    "Total Working Years is positively skewed with several outliers"
   ]
  },
  {
   "cell_type": "markdown",
   "metadata": {},
   "source": [
    "## Applying Chi-Square test"
   ]
  },
  {
   "cell_type": "code",
   "execution_count": 38,
   "metadata": {},
   "outputs": [],
   "source": [
    "from scipy.stats import chi2_contingency"
   ]
  },
  {
   "cell_type": "code",
   "execution_count": 39,
   "metadata": {},
   "outputs": [],
   "source": [
    "def chi_square(col):\n",
    "    \n",
    "    print(col)\n",
    "    print(\"\")\n",
    "    print(f\"H0: Attrition is not dependent on {col}\")\n",
    "    print(f\"H1: Attrition is dependent on {col}\")\n",
    "    a,b,c,d = chi2_contingency(pd.crosstab(data.Attrition, data[col]))\n",
    "    print(f\"\\nP-value is {b}\")\n",
    "    \n",
    "    if b > 0.05:\n",
    "        print(f\"H0 is accepted because {b} is greater than 0.05 So, Attrition is not dependent on {col}\")\n",
    "    else:\n",
    "        print(f\"H1 is accepted because {b} is less than 0.05 So, Attrition is dependent on {col}\")\n",
    "    \n",
    "    print(\"-----------------------\")"
   ]
  },
  {
   "cell_type": "code",
   "execution_count": 40,
   "metadata": {},
   "outputs": [
    {
     "name": "stdout",
     "output_type": "stream",
     "text": [
      "BusinessTravel\n",
      "\n",
      "H0: Attrition is not dependent on BusinessTravel\n",
      "H1: Attrition is dependent on BusinessTravel\n",
      "\n",
      "P-value is 6.07019702736392e-16\n",
      "H1 is accepted because 6.07019702736392e-16 is less than 0.05 So, Attrition is dependent on BusinessTravel\n",
      "-----------------------\n",
      "Department\n",
      "\n",
      "H0: Attrition is not dependent on Department\n",
      "H1: Attrition is dependent on Department\n",
      "\n",
      "P-value is 2.382970570769315e-06\n",
      "H1 is accepted because 2.382970570769315e-06 is less than 0.05 So, Attrition is dependent on Department\n",
      "-----------------------\n",
      "Education\n",
      "\n",
      "H0: Attrition is not dependent on Education\n",
      "H1: Attrition is dependent on Education\n",
      "\n",
      "P-value is 0.17963050984273224\n",
      "H0 is accepted because 0.17963050984273224 is greater than 0.05 So, Attrition is not dependent on Education\n",
      "-----------------------\n",
      "EducationField\n",
      "\n",
      "H0: Attrition is not dependent on EducationField\n",
      "H1: Attrition is dependent on EducationField\n",
      "\n",
      "P-value is 3.472896220587872e-08\n",
      "H1 is accepted because 3.472896220587872e-08 is less than 0.05 So, Attrition is dependent on EducationField\n",
      "-----------------------\n",
      "Gender\n",
      "\n",
      "H0: Attrition is not dependent on Gender\n",
      "H1: Attrition is dependent on Gender\n",
      "\n",
      "P-value is 0.23966176275638887\n",
      "H0 is accepted because 0.23966176275638887 is greater than 0.05 So, Attrition is not dependent on Gender\n",
      "-----------------------\n",
      "JobLevel\n",
      "\n",
      "H0: Attrition is not dependent on JobLevel\n",
      "H1: Attrition is dependent on JobLevel\n",
      "\n",
      "P-value is 0.13397290697032432\n",
      "H0 is accepted because 0.13397290697032432 is greater than 0.05 So, Attrition is not dependent on JobLevel\n",
      "-----------------------\n",
      "JobRole\n",
      "\n",
      "H0: Attrition is not dependent on JobRole\n",
      "H1: Attrition is dependent on JobRole\n",
      "\n",
      "P-value is 0.005116592717526599\n",
      "H1 is accepted because 0.005116592717526599 is less than 0.05 So, Attrition is dependent on JobRole\n",
      "-----------------------\n",
      "MaritalStatus\n",
      "\n",
      "H0: Attrition is not dependent on MaritalStatus\n",
      "H1: Attrition is dependent on MaritalStatus\n",
      "\n",
      "P-value is 8.573051828219379e-30\n",
      "H1 is accepted because 8.573051828219379e-30 is less than 0.05 So, Attrition is dependent on MaritalStatus\n",
      "-----------------------\n",
      "StockOptionLevel\n",
      "\n",
      "H0: Attrition is not dependent on StockOptionLevel\n",
      "H1: Attrition is dependent on StockOptionLevel\n",
      "\n",
      "P-value is 0.32799207189761653\n",
      "H0 is accepted because 0.32799207189761653 is greater than 0.05 So, Attrition is not dependent on StockOptionLevel\n",
      "-----------------------\n"
     ]
    }
   ],
   "source": [
    "cols = ['BusinessTravel', 'Department', 'Education', 'EducationField', \n",
    "        'Gender', 'JobLevel', 'JobRole','MaritalStatus', 'StockOptionLevel']\n",
    "for col in cols:\n",
    "    chi_square(col)"
   ]
  },
  {
   "cell_type": "markdown",
   "metadata": {},
   "source": [
    "## Applying Mannwihtney Test"
   ]
  },
  {
   "cell_type": "code",
   "execution_count": 41,
   "metadata": {},
   "outputs": [],
   "source": [
    "data['Attrition'] = data['Attrition'].map({'Yes':1, 'No':0})"
   ]
  },
  {
   "cell_type": "code",
   "execution_count": 42,
   "metadata": {},
   "outputs": [],
   "source": [
    "A_yes = data[data['Attrition']==1]\n",
    "A_no = data[data['Attrition']==0]"
   ]
  },
  {
   "cell_type": "code",
   "execution_count": 43,
   "metadata": {},
   "outputs": [],
   "source": [
    "from scipy.stats import mannwhitneyu"
   ]
  },
  {
   "cell_type": "code",
   "execution_count": 44,
   "metadata": {},
   "outputs": [],
   "source": [
    "def mannwithney(col):\n",
    "    print(f\"H0: There is no significant difference between {col} and Attrition\")\n",
    "    print(f\"H1: There is significant difference between {col} and Attrition\")\n",
    "\n",
    "    a, b = mannwhitneyu(A_yes[col],A_no[col])\n",
    "    print(f\"\\nP-value is {b}\")\n",
    "    \n",
    "    if b>0.05:\n",
    "        print(f\"\\nH0 is accepted because p-value is greater than 0.05 so,\" \n",
    "              f\"\\nThere is no significant difference between {col} with respect to Attrition\")\n",
    "    else:\n",
    "        print(f\"\\nH1 is accepted because p-value is smaller than 0.05 so,\" \n",
    "              f\"\\nThere is significant difference between {col} with respect to Attrition\")\n",
    "    print('-----------------------------------------------------------------------------\\n')"
   ]
  },
  {
   "cell_type": "code",
   "execution_count": 45,
   "metadata": {},
   "outputs": [
    {
     "name": "stdout",
     "output_type": "stream",
     "text": [
      "H0: There is no significant difference between Age and Attrition\n",
      "H1: There is significant difference between Age and Attrition\n",
      "\n",
      "P-value is 7.98668614365882e-30\n",
      "\n",
      "H1 is accepted because p-value is smaller than 0.05 so,\n",
      "There is significant difference between Age with respect to Attrition\n",
      "-----------------------------------------------------------------------------\n",
      "\n",
      "H0: There is no significant difference between DistanceFromHome and Attrition\n",
      "H1: There is significant difference between DistanceFromHome and Attrition\n",
      "\n",
      "P-value is 0.488538986087403\n",
      "\n",
      "H0 is accepted because p-value is greater than 0.05 so,\n",
      "There is no significant difference between DistanceFromHome with respect to Attrition\n",
      "-----------------------------------------------------------------------------\n",
      "\n",
      "H0: There is no significant difference between MonthlyIncome and Attrition\n",
      "H1: There is significant difference between MonthlyIncome and Attrition\n",
      "\n",
      "P-value is 0.06508807631576838\n",
      "\n",
      "H0 is accepted because p-value is greater than 0.05 so,\n",
      "There is no significant difference between MonthlyIncome with respect to Attrition\n",
      "-----------------------------------------------------------------------------\n",
      "\n",
      "H0: There is no significant difference between NumCompaniesWorked and Attrition\n",
      "H1: There is significant difference between NumCompaniesWorked and Attrition\n",
      "\n",
      "P-value is 0.02793197853866981\n",
      "\n",
      "H1 is accepted because p-value is smaller than 0.05 so,\n",
      "There is significant difference between NumCompaniesWorked with respect to Attrition\n",
      "-----------------------------------------------------------------------------\n",
      "\n",
      "H0: There is no significant difference between PercentSalaryHike and Attrition\n",
      "H1: There is significant difference between PercentSalaryHike and Attrition\n",
      "\n",
      "P-value is 0.017810794960084964\n",
      "\n",
      "H1 is accepted because p-value is smaller than 0.05 so,\n",
      "There is significant difference between PercentSalaryHike with respect to Attrition\n",
      "-----------------------------------------------------------------------------\n",
      "\n",
      "H0: There is no significant difference between TotalWorkingYears and Attrition\n",
      "H1: There is significant difference between TotalWorkingYears and Attrition\n",
      "\n",
      "P-value is 2.741211827689903e-39\n",
      "\n",
      "H1 is accepted because p-value is smaller than 0.05 so,\n",
      "There is significant difference between TotalWorkingYears with respect to Attrition\n",
      "-----------------------------------------------------------------------------\n",
      "\n",
      "H0: There is no significant difference between TrainingTimesLastYear and Attrition\n",
      "H1: There is significant difference between TrainingTimesLastYear and Attrition\n",
      "\n",
      "P-value is 0.008107344081224082\n",
      "\n",
      "H1 is accepted because p-value is smaller than 0.05 so,\n",
      "There is significant difference between TrainingTimesLastYear with respect to Attrition\n",
      "-----------------------------------------------------------------------------\n",
      "\n",
      "H0: There is no significant difference between YearsAtCompany and Attrition\n",
      "H1: There is significant difference between YearsAtCompany and Attrition\n",
      "\n",
      "P-value is 3.3433144809752036e-36\n",
      "\n",
      "H1 is accepted because p-value is smaller than 0.05 so,\n",
      "There is significant difference between YearsAtCompany with respect to Attrition\n",
      "-----------------------------------------------------------------------------\n",
      "\n",
      "H0: There is no significant difference between YearsSinceLastPromotion and Attrition\n",
      "H1: There is significant difference between YearsSinceLastPromotion and Attrition\n",
      "\n",
      "P-value is 0.00037904698157957496\n",
      "\n",
      "H1 is accepted because p-value is smaller than 0.05 so,\n",
      "There is significant difference between YearsSinceLastPromotion with respect to Attrition\n",
      "-----------------------------------------------------------------------------\n",
      "\n",
      "H0: There is no significant difference between YearsWithCurrManager and Attrition\n",
      "H1: There is significant difference between YearsWithCurrManager and Attrition\n",
      "\n",
      "P-value is 5.420302388722274e-31\n",
      "\n",
      "H1 is accepted because p-value is smaller than 0.05 so,\n",
      "There is significant difference between YearsWithCurrManager with respect to Attrition\n",
      "-----------------------------------------------------------------------------\n",
      "\n"
     ]
    }
   ],
   "source": [
    "cols = ['Age', 'DistanceFromHome', 'MonthlyIncome', 'NumCompaniesWorked',\n",
    "        'PercentSalaryHike','TotalWorkingYears','TrainingTimesLastYear', \n",
    "        'YearsAtCompany', 'YearsSinceLastPromotion','YearsWithCurrManager']\n",
    "for cl in cols:\n",
    "    mannwithney(cl)"
   ]
  },
  {
   "cell_type": "markdown",
   "metadata": {},
   "source": [
    "## Finding Correlation with Attrition"
   ]
  },
  {
   "cell_type": "code",
   "execution_count": 46,
   "metadata": {},
   "outputs": [],
   "source": [
    "from scipy.stats import pearsonr"
   ]
  },
  {
   "cell_type": "code",
   "execution_count": 47,
   "metadata": {},
   "outputs": [],
   "source": [
    "def At_corr(col):\n",
    "    print(f\"H0: There is no correlation between {col} and Attrition\")\n",
    "    print(f\"H1: There is correlation between {col} and Attrition\")\n",
    "    \n",
    "    stats, p = pearsonr(data.Attrition, data[col])\n",
    "    \n",
    "    print(f\"\\nP-value is {p} and R is {stats}\")\n",
    "    \n",
    "    if p > 0.05:\n",
    "        print(\"H0 is accepted as pvalue is greater than 0.05\\n\")\n",
    "        print(f\"There is no correlation between {col} and Attrition\")\n",
    "    else:\n",
    "        print(\"H1 is accepted as pvalue is less than 0.05\\n\")\n",
    "        if stats > 0:\n",
    "            print(f\"There is positive correlation between {col} and Attrition\")\n",
    "        else:\n",
    "            print(f\"There is negative correlation between {col} and Attrition\")\n",
    "        \n",
    "    print(\"----------------------------------------------------------\")"
   ]
  },
  {
   "cell_type": "code",
   "execution_count": 48,
   "metadata": {},
   "outputs": [
    {
     "name": "stdout",
     "output_type": "stream",
     "text": [
      "H0: There is no correlation between Age and Attrition\n",
      "H1: There is correlation between Age and Attrition\n",
      "\n",
      "P-value is 5.126598219399243e-26 and R is -0.1583986795409615\n",
      "H1 is accepted as pvalue is less than 0.05\n",
      "\n",
      "There is negative correlation between Age and Attrition\n",
      "----------------------------------------------------------\n",
      "H0: There is no correlation between DistanceFromHome and Attrition\n",
      "H1: There is correlation between DistanceFromHome and Attrition\n",
      "\n",
      "P-value is 0.5317715668019634 and R is -0.009448638515155983\n",
      "H0 is accepted as pvalue is greater than 0.05\n",
      "\n",
      "There is no correlation between DistanceFromHome and Attrition\n",
      "----------------------------------------------------------\n",
      "H0: There is no correlation between MonthlyIncome and Attrition\n",
      "H1: There is correlation between MonthlyIncome and Attrition\n",
      "\n",
      "P-value is 0.04589086274474114 and R is -0.030160293808459582\n",
      "H1 is accepted as pvalue is less than 0.05\n",
      "\n",
      "There is negative correlation between MonthlyIncome and Attrition\n",
      "----------------------------------------------------------\n",
      "H0: There is no correlation between NumCompaniesWorked and Attrition\n",
      "H1: There is correlation between NumCompaniesWorked and Attrition\n",
      "\n",
      "P-value is 0.004572057121624155 and R is 0.04283056724471892\n",
      "H1 is accepted as pvalue is less than 0.05\n",
      "\n",
      "There is positive correlation between NumCompaniesWorked and Attrition\n",
      "----------------------------------------------------------\n",
      "H0: There is no correlation between PercentSalaryHike and Attrition\n",
      "H1: There is correlation between PercentSalaryHike and Attrition\n",
      "\n",
      "P-value is 0.028192446935107012 and R is 0.033153037135465226\n",
      "H1 is accepted as pvalue is less than 0.05\n",
      "\n",
      "There is positive correlation between PercentSalaryHike and Attrition\n",
      "----------------------------------------------------------\n",
      "H0: There is no correlation between TotalWorkingYears and Attrition\n",
      "H1: There is correlation between TotalWorkingYears and Attrition\n",
      "\n",
      "P-value is 1.1645434967153252e-29 and R is -0.16966991684723265\n",
      "H1 is accepted as pvalue is less than 0.05\n",
      "\n",
      "There is negative correlation between TotalWorkingYears and Attrition\n",
      "----------------------------------------------------------\n",
      "H0: There is no correlation between TrainingTimesLastYear and Attrition\n",
      "H1: There is correlation between TrainingTimesLastYear and Attrition\n",
      "\n",
      "P-value is 0.0016276603635485554 and R is -0.04758573693081555\n",
      "H1 is accepted as pvalue is less than 0.05\n",
      "\n",
      "There is negative correlation between TrainingTimesLastYear and Attrition\n",
      "----------------------------------------------------------\n",
      "H0: There is no correlation between YearsAtCompany and Attrition\n",
      "H1: There is correlation between YearsAtCompany and Attrition\n",
      "\n",
      "P-value is 9.476118084864852e-19 and R is -0.1330026184252109\n",
      "H1 is accepted as pvalue is less than 0.05\n",
      "\n",
      "There is negative correlation between YearsAtCompany and Attrition\n",
      "----------------------------------------------------------\n",
      "H0: There is no correlation between YearsSinceLastPromotion and Attrition\n",
      "H1: There is correlation between YearsSinceLastPromotion and Attrition\n",
      "\n",
      "P-value is 0.03752293607393637 and R is -0.0314231505633079\n",
      "H1 is accepted as pvalue is less than 0.05\n",
      "\n",
      "There is negative correlation between YearsSinceLastPromotion and Attrition\n",
      "----------------------------------------------------------\n",
      "H0: There is no correlation between YearsWithCurrManager and Attrition\n",
      "H1: There is correlation between YearsWithCurrManager and Attrition\n",
      "\n",
      "P-value is 7.105369646794048e-25 and R is -0.15469153690286805\n",
      "H1 is accepted as pvalue is less than 0.05\n",
      "\n",
      "There is negative correlation between YearsWithCurrManager and Attrition\n",
      "----------------------------------------------------------\n"
     ]
    }
   ],
   "source": [
    "cols = ['Age', 'DistanceFromHome', 'MonthlyIncome', 'NumCompaniesWorked',\n",
    "        'PercentSalaryHike','TotalWorkingYears','TrainingTimesLastYear', \n",
    "        'YearsAtCompany', 'YearsSinceLastPromotion','YearsWithCurrManager']\n",
    "for cl in cols:\n",
    "    At_corr(cl)"
   ]
  },
  {
   "cell_type": "markdown",
   "metadata": {},
   "source": [
    "## Analysis on Categorical variables with with Positive Attrition"
   ]
  },
  {
   "cell_type": "code",
   "execution_count": 49,
   "metadata": {},
   "outputs": [
    {
     "data": {
      "text/plain": [
       "<matplotlib.axes._subplots.AxesSubplot at 0x22f9a219c88>"
      ]
     },
     "execution_count": 49,
     "metadata": {},
     "output_type": "execute_result"
    },
    {
     "data": {
      "image/png": "[encoded data removed]",
      "text/plain": [
       "<Figure size 432x288 with 1 Axes>"
      ]
     },
     "metadata": {
      "needs_background": "light"
     },
     "output_type": "display_data"
    }
   ],
   "source": [
    "(A_yes.BusinessTravel.value_counts()/data.BusinessTravel.value_counts()).plot.bar()"
   ]
  },
  {
   "cell_type": "code",
   "execution_count": 50,
   "metadata": {},
   "outputs": [
    {
     "data": {
      "text/plain": [
       "<matplotlib.axes._subplots.AxesSubplot at 0x22f9a90cfc8>"
      ]
     },
     "execution_count": 50,
     "metadata": {},
     "output_type": "execute_result"
    },
    {
     "data": {
      "image/png": "[encoded data removed]",
      "text/plain": [
       "<Figure size 432x288 with 1 Axes>"
      ]
     },
     "metadata": {
      "needs_background": "light"
     },
     "output_type": "display_data"
    }
   ],
   "source": [
    "(A_yes.Department.value_counts()/data.Department.value_counts()).plot.bar()"
   ]
  },
  {
   "cell_type": "code",
   "execution_count": 51,
   "metadata": {},
   "outputs": [
    {
     "data": {
      "text/plain": [
       "<matplotlib.axes._subplots.AxesSubplot at 0x22f9b941148>"
      ]
     },
     "execution_count": 51,
     "metadata": {},
     "output_type": "execute_result"
    },
    {
     "data": {
      "image/png": "[encoded data removed]",
      "text/plain": [
       "<Figure size 432x288 with 1 Axes>"
      ]
     },
     "metadata": {
      "needs_background": "light"
     },
     "output_type": "display_data"
    }
   ],
   "source": [
    "(A_yes.Education.value_counts()/data.Education.value_counts()).plot.bar()"
   ]
  },
  {
   "cell_type": "code",
   "execution_count": 52,
   "metadata": {},
   "outputs": [
    {
     "data": {
      "text/plain": [
       "<matplotlib.axes._subplots.AxesSubplot at 0x22f9b9b9148>"
      ]
     },
     "execution_count": 52,
     "metadata": {},
     "output_type": "execute_result"
    },
    {
     "data": {
      "image/png": "[encoded data removed]",
      "text/plain": [
       "<Figure size 432x288 with 1 Axes>"
      ]
     },
     "metadata": {
      "needs_background": "light"
     },
     "output_type": "display_data"
    }
   ],
   "source": [
    "(A_yes.EducationField.value_counts()/data.EducationField.value_counts()).plot.bar()"
   ]
  },
  {
   "cell_type": "code",
   "execution_count": 53,
   "metadata": {},
   "outputs": [
    {
     "data": {
      "text/plain": [
       "<matplotlib.axes._subplots.AxesSubplot at 0x22f9ba24248>"
      ]
     },
     "execution_count": 53,
     "metadata": {},
     "output_type": "execute_result"
    },
    {
     "data": {
      "image/png": "[encoded data removed]",
      "text/plain": [
       "<Figure size 432x288 with 1 Axes>"
      ]
     },
     "metadata": {
      "needs_background": "light"
     },
     "output_type": "display_data"
    }
   ],
   "source": [
    "(A_yes.Gender.value_counts()/data.Gender.value_counts()).plot.bar()"
   ]
  },
  {
   "cell_type": "code",
   "execution_count": 54,
   "metadata": {},
   "outputs": [
    {
     "data": {
      "text/plain": [
       "<matplotlib.axes._subplots.AxesSubplot at 0x22f9ba917c8>"
      ]
     },
     "execution_count": 54,
     "metadata": {},
     "output_type": "execute_result"
    },
    {
     "data": {
      "image/png": "[encoded data removed]",
      "text/plain": [
       "<Figure size 432x288 with 1 Axes>"
      ]
     },
     "metadata": {
      "needs_background": "light"
     },
     "output_type": "display_data"
    }
   ],
   "source": [
    "(A_yes.MaritalStatus.value_counts()/data.MaritalStatus.value_counts()).plot.bar()"
   ]
  },
  {
   "cell_type": "code",
   "execution_count": 55,
   "metadata": {},
   "outputs": [
    {
     "data": {
      "text/plain": [
       "<matplotlib.axes._subplots.AxesSubplot at 0x22f9baf78c8>"
      ]
     },
     "execution_count": 55,
     "metadata": {},
     "output_type": "execute_result"
    },
    {
     "data": {
      "image/png": "[encoded data removed]",
      "text/plain": [
       "<Figure size 432x288 with 1 Axes>"
      ]
     },
     "metadata": {
      "needs_background": "light"
     },
     "output_type": "display_data"
    }
   ],
   "source": [
    "(A_yes.JobLevel.value_counts()/data.JobLevel.value_counts()).plot.bar()"
   ]
  },
  {
   "cell_type": "code",
   "execution_count": 56,
   "metadata": {},
   "outputs": [
    {
     "data": {
      "text/plain": [
       "<matplotlib.axes._subplots.AxesSubplot at 0x22f9bb76448>"
      ]
     },
     "execution_count": 56,
     "metadata": {},
     "output_type": "execute_result"
    },
    {
     "data": {
      "image/png": "[encoded data removed]",
      "text/plain": [
       "<Figure size 432x288 with 1 Axes>"
      ]
     },
     "metadata": {
      "needs_background": "light"
     },
     "output_type": "display_data"
    }
   ],
   "source": [
    "(A_yes.JobRole.value_counts()/data.JobRole.value_counts()).plot.bar()"
   ]
  },
  {
   "cell_type": "code",
   "execution_count": 57,
   "metadata": {},
   "outputs": [
    {
     "data": {
      "text/plain": [
       "<matplotlib.axes._subplots.AxesSubplot at 0x22f9bbf3a08>"
      ]
     },
     "execution_count": 57,
     "metadata": {},
     "output_type": "execute_result"
    },
    {
     "data": {
      "image/png": "[encoded data removed]",
      "text/plain": [
       "<Figure size 432x288 with 1 Axes>"
      ]
     },
     "metadata": {
      "needs_background": "light"
     },
     "output_type": "display_data"
    }
   ],
   "source": [
    "(A_yes.StockOptionLevel.value_counts()/data.StockOptionLevel.value_counts()).plot.bar()"
   ]
  },
  {
   "cell_type": "markdown",
   "metadata": {},
   "source": [
    "**Inferences from above analysis**\n",
    "\n",
    "- Employees with High Travel Frequency have high chances of Attrition\n",
    "- More focus should be laid on HR Department as there Attrition rate is High\n",
    "- Employees with college education have high Attrition rate.\n",
    "- Employees who are from HR Background have very high Attrition rate.\n",
    "- Employees who are single also have very high chances of Attrition rate.\n",
    "- Employees with Research Director Jobrole have high chances of Attrition rate."
   ]
  },
  {
   "cell_type": "code",
   "execution_count": 58,
   "metadata": {},
   "outputs": [
    {
     "data": {
      "text/plain": [
       "Age                           32.0\n",
       "Attrition                      1.0\n",
       "DistanceFromHome               7.0\n",
       "Education                      3.0\n",
       "JobLevel                       2.0\n",
       "MonthlyIncome              49080.0\n",
       "NumCompaniesWorked             1.0\n",
       "PercentSalaryHike             14.0\n",
       "StockOptionLevel               1.0\n",
       "TotalWorkingYears              7.0\n",
       "TrainingTimesLastYear          3.0\n",
       "YearsAtCompany                 3.0\n",
       "YearsSinceLastPromotion        1.0\n",
       "YearsWithCurrManager           2.0\n",
       "dtype: float64"
      ]
     },
     "execution_count": 58,
     "metadata": {},
     "output_type": "execute_result"
    }
   ],
   "source": [
    "A_yes.median()"
   ]
  },
  {
   "cell_type": "code",
   "execution_count": 59,
   "metadata": {},
   "outputs": [
    {
     "data": {
      "text/plain": [
       "Age                           36.0\n",
       "Attrition                      0.0\n",
       "DistanceFromHome               7.0\n",
       "Education                      3.0\n",
       "JobLevel                       2.0\n",
       "MonthlyIncome              49300.0\n",
       "NumCompaniesWorked             2.0\n",
       "PercentSalaryHike             14.0\n",
       "StockOptionLevel               1.0\n",
       "TotalWorkingYears             10.0\n",
       "TrainingTimesLastYear          3.0\n",
       "YearsAtCompany                 6.0\n",
       "YearsSinceLastPromotion        1.0\n",
       "YearsWithCurrManager           3.0\n",
       "dtype: float64"
      ]
     },
     "execution_count": 59,
     "metadata": {},
     "output_type": "execute_result"
    }
   ],
   "source": [
    "A_no.median()"
   ]
  },
  {
   "cell_type": "markdown",
   "metadata": {},
   "source": [
    "**Inferences from above analysis**\n",
    "\n",
    "- Employees whose age is around 36 have lower chances of attrition.\n",
    "- Employees with more years of experience have lower chance of Attrition."
   ]
  },
  {
   "cell_type": "markdown",
   "metadata": {},
   "source": [
    "## Conclusion\n",
    "\n",
    "**1. To reduce the attrition rate more focus should be laid on HR Department**<br/>\n",
    "**2. Travel Frequency of Employees should be reduced as it increasing the travel frequency increases the attrition rate.**<br/>\n",
    "**3. Employees with more Education level should be hired more than lower education.**<br/>\n",
    "**4  People who are married should give higher priority while hiring new employees as they have low chances of attrition.**<br/>\n",
    "**5. More care should be taken of Research Directors as they have higher chances of Attrition.**<br/>\n",
    "**6. Employees who have higher experience should be hired as they very low chances of Attrition.**<br/>\n",
    "**7. More care should be taken of Employees who are single as they have higher chances of Attrition.**<br/>\n",
    "**8. More care should be taken of Employees who are younger in age.**<br/>\n",
    "**9. People around 36 years of age should be hire more as they have lower chances of Attrition.**"
   ]
  }
 ],
 "metadata": {
  "kernelspec": {
   "display_name": "Python 3",
   "language": "python",
   "name": "python3"
  },
  "language_info": {
   "codemirror_mode": {
    "name": "ipython",
    "version": 3
   },
   "file_extension": ".py",
   "mimetype": "text/x-python",
   "name": "python",
   "nbconvert_exporter": "python",
   "pygments_lexer": "ipython3",
   "version": "3.7.6"
  },
  "toc": {
   "base_numbering": 1,
   "nav_menu": {},
   "number_sections": false,
   "sideBar": true,
   "skip_h1_title": false,
   "title_cell": "Table of Contents",
   "title_sidebar": "Contents",
   "toc_cell": false,
   "toc_position": {},
   "toc_section_display": true,
   "toc_window_display": false
  },
  "varInspector": {
   "cols": {
    "lenName": 16,
    "lenType": 16,
    "lenVar": 40
   },
   "kernels_config": {
    "python": {
     "delete_cmd_postfix": "",
     "delete_cmd_prefix": "del ",
     "library": "var_list.py",
     "varRefreshCmd": "print(var_dic_list())"
    },
    "r": {
     "delete_cmd_postfix": ") ",
     "delete_cmd_prefix": "rm(",
     "library": "var_list.r",
     "varRefreshCmd": "cat(var_dic_list()) "
    }
   },
   "types_to_exclude": [
    "module",
    "function",
    "builtin_function_or_method",
    "instance",
    "_Feature"
   ],
   "window_display": false
  }
 },
 "nbformat": 4,
 "nbformat_minor": 4
}
