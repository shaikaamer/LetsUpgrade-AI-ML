{
 "cells": [
  {
   "cell_type": "markdown",
   "metadata": {},
   "source": [
    "Question 1 :\n",
    "Research on whether addition, subtraction, multiplication, division, floor division and modulo\n",
    "operations be performed on complex numbers. Based on your study, implement a Python\n",
    "program to demonstrate these operations."
   ]
  },
  {
   "cell_type": "markdown",
   "metadata": {},
   "source": [
    " we canot perfor mfloor Division, and modulo operations on Complex Number"
   ]
  },
  {
   "cell_type": "code",
   "execution_count": 1,
   "metadata": {},
   "outputs": [
    {
     "name": "stdout",
     "output_type": "stream",
     "text": [
      "Addition of two complex numbers :  (7-4j)\n",
      "Subtraction of two complex numbers :  (1+10j)\n",
      "Multiplication of two complex numbers :  (33-19j)\n",
      "Division of two complex numbers :  (-0.15517241379310348+0.6379310344827587j)\n"
     ]
    }
   ],
   "source": [
    "def add(a,b):\n",
    "    return a+b\n",
    "\n",
    "def sub(a,b):\n",
    "    return a-b\n",
    "\n",
    "def mul(a,b):\n",
    "    return a*b\n",
    "\n",
    "def div(a,b):\n",
    "    return a/b\n",
    "\n",
    "\n",
    "print(\"Addition of two complex numbers : \",add((4+3j),(3-7j)))\n",
    "print(\"Subtraction of two complex numbers : \",sub((4+3j),(3-7j)))\n",
    "print(\"Multiplication of two complex numbers : \",mul((4+3j),(3-7j)))\n",
    "print(\"Division of two complex numbers : \",div((4+3j),(3-7j)))\n"
   ]
  },
  {
   "cell_type": "markdown",
   "metadata": {},
   "source": [
    "Question 2 :\n",
    "Research on range() functions and its parameters. Create a markdown cell and write in your own\n",
    "words (no copy-paste from google please) what you understand about it. Implement a small\n",
    "program of your choice on the same."
   ]
  },
  {
   "cell_type": "markdown",
   "metadata": {},
   "source": [
    "Asnswer: \n",
    "            \n",
    "            range() will allow to produce the sequence of integer number in the given range.\n",
    "     Parameters of range() are as follows : start, stop, step\n",
    "     if start was given it will start from start or else it will be from 0\n",
    "     for stop value the sequence of numbers will be stop -1\n",
    "     step will iterate the in a sequantial increment of the step value\n",
    "     we can have the range() in the sequential increment and sequential decrement for sequential decrement we should have the step in negative sign.\n",
    "     we can have the len() inside the range() with this \"from itertools import chain\"\n",
    "     we can combine two range functions as well\n",
    "     we can Access range() with the Index \n",
    "     The Step value should not be zero"
   ]
  },
  {
   "cell_type": "code",
   "execution_count": 2,
   "metadata": {},
   "outputs": [
    {
     "name": "stdout",
     "output_type": "stream",
     "text": [
      "0 1 2 3 4 5 6 7 8 9 \n",
      "1 2 3 4 5 6 7 8 9 \n",
      "1 3 5 7 9 \n",
      "25 23 21 19 17 15 13 11 9 7 5 3 1 \n",
      "0 1 2 3 4 5 6 7 8 9 10 11 12 13 14 15 16 17 0 1 2 3 4 10 12 14 16 18 \n",
      "First element: 0\n"
     ]
    }
   ],
   "source": [
    "for i in range(10): \n",
    "    print(i, end =\" \") \n",
    "print() \n",
    "\n",
    "for i in range(1,10): \n",
    "    print(i, end =\" \") \n",
    "print() \n",
    "\n",
    "for i in range(1,10,2): \n",
    "    print(i, end =\" \") \n",
    "print()\n",
    "\n",
    "\n",
    "for i in range(25,0,-2): \n",
    "    print(i, end =\" \") \n",
    "print()\n",
    "\n",
    "from itertools import chain \n",
    "\n",
    "l=[1,2,3,4,5,6,7,8,9,1,2,3,4,5,6,7,8,9]\n",
    "\n",
    "for i in range( len (l)):\n",
    "    print (i,end =\" \")\n",
    "    \n",
    "\n",
    "    \n",
    "v=chain(range(5),range(10,20,2))\n",
    "\n",
    "for i in v:\n",
    "    print(i, end = \" \")\n",
    "    \n",
    "\n",
    "\n",
    "print ()\n",
    "\n",
    "le = range(10)[0] \n",
    "print(\"First element:\", le) "
   ]
  },
  {
   "cell_type": "markdown",
   "metadata": {},
   "source": [
    "Question 3:\n",
    " Consider two numbers. Perform their subtraction and if the result of subtraction is greater than\n",
    "25, print their multiplication result else print their division result."
   ]
  },
  {
   "cell_type": "code",
   "execution_count": 3,
   "metadata": {},
   "outputs": [
    {
     "name": "stdout",
     "output_type": "stream",
     "text": [
      "Multiplication Result: 5000\n"
     ]
    }
   ],
   "source": [
    "a=100\n",
    "b=50\n",
    "if a> b:\n",
    "    c=a-b\n",
    "else:\n",
    "    c=b-a\n",
    "    \n",
    "    \n",
    "if c > 25:\n",
    "    c= a * b\n",
    "    print (\"Multiplication Result:\",c)\n",
    "else:\n",
    "    c = a / b\n",
    "    print (\"Division Result\",c)\n"
   ]
  },
  {
   "cell_type": "markdown",
   "metadata": {},
   "source": [
    "Question 4:\n",
    "Consider a list of 10 elements of integer values. If the number in the list is divisible by 2, print the\n",
    "result as \"square of that number minus 2\"."
   ]
  },
  {
   "cell_type": "code",
   "execution_count": 4,
   "metadata": {},
   "outputs": [
    {
     "name": "stdout",
     "output_type": "stream",
     "text": [
      "Square of 2 is 4 and Minus 2 is :2\n",
      "Square of 4 is 16 and Minus 2 is :14\n",
      "Square of 6 is 36 and Minus 2 is :34\n",
      "Square of 8 is 64 and Minus 2 is :62\n",
      "Square of 10 is 100 and Minus 2 is :98\n",
      "Square of 12 is 144 and Minus 2 is :142\n"
     ]
    }
   ],
   "source": [
    "l=[1,3,5,7,9,11,2,4,6,8,10,12,]\n",
    "\n",
    "for i in l:\n",
    "    if i % 2 == 0:\n",
    "        print (\"Square of {:d} is {:d} and Minus 2 is :{:d}\".format(i,i**2,(i**2)-2))"
   ]
  },
  {
   "cell_type": "markdown",
   "metadata": {},
   "source": [
    "Question 5:\n",
    "Consider a list of 10 elements. Print all the elements in the list which are greater than 7 when that\n",
    "number is divided 2."
   ]
  },
  {
   "cell_type": "code",
   "execution_count": 5,
   "metadata": {},
   "outputs": [
    {
     "name": "stdout",
     "output_type": "stream",
     "text": [
      "8\n",
      "10\n",
      "12\n"
     ]
    }
   ],
   "source": [
    "l=[1,3,5,7,9,11,2,4,6,8,10,12,]\n",
    "for i in l:\n",
    "    if i % 2 == 0 and i>7:\n",
    "        print (i)\n"
   ]
  }
 ],
 "metadata": {
  "kernelspec": {
   "display_name": "Python 3",
   "language": "python",
   "name": "python3"
  },
  "language_info": {
   "codemirror_mode": {
    "name": "ipython",
    "version": 3
   },
   "file_extension": ".py",
   "mimetype": "text/x-python",
   "name": "python",
   "nbconvert_exporter": "python",
   "pygments_lexer": "ipython3",
   "version": "3.7.3"
  }
 },
 "nbformat": 4,
 "nbformat_minor": 2
}
