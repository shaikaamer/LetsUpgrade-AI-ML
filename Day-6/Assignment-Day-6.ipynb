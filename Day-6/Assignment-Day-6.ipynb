{
 "cells": [
  {
   "cell_type": "markdown",
   "metadata": {},
   "source": [
    "Question 1:\n",
    "Assuming that we have some email addresses in the \"username@companyname.com\" format, please write program to print the company name of a given email address. Both user names and company names are composed of letters only. Input Format: The first line of the input contains an email address. Output Format: Print the company name in single line. Example; Input: john@google.com Output: google"
   ]
  },
  {
   "cell_type": "code",
   "execution_count": 1,
   "metadata": {},
   "outputs": [
    {
     "name": "stdout",
     "output_type": "stream",
     "text": [
      "Company Name:  google\n"
     ]
    }
   ],
   "source": [
    "str= \"john@google.com\"\n",
    "\n",
    "str1=str.split('@')\n",
    "\n",
    "str2=str1[1].split('.')\n",
    "print (\"Company Name: \",str2[0])"
   ]
  },
  {
   "cell_type": "markdown",
   "metadata": {},
   "source": [
    "Question 2:\n",
    "Write a program that accepts a comma-separated sequence of words as input and prints the words in a comma separated sequence after sorting them alphabetically. Input Format: The first line of input contains words separated by the comma. Output Format: Print the sorted words separated by the comma. Example: Input: without,hello,bag,world Output: bag,hello,without,world"
   ]
  },
  {
   "cell_type": "code",
   "execution_count": 2,
   "metadata": {},
   "outputs": [
    {
     "name": "stdout",
     "output_type": "stream",
     "text": [
      "bag,hello,without,world\n"
     ]
    }
   ],
   "source": [
    "str=\"without,hello,bag,world\"\n",
    "\n",
    "l=str.split(\",\")\n",
    "\n",
    "\n",
    "\n",
    "l=sorted(l)\n",
    "\n",
    "l = \",\".join(l)\n",
    "\n",
    "\n",
    "print (l)"
   ]
  },
  {
   "cell_type": "markdown",
   "metadata": {},
   "source": [
    "Question 4:\n",
    "Given a list of n-1 numbers ranging from 1 to n, your task is to find the missing number. There are no duplicates. Input Format: The first line contains n-1 numbers with each number separated by a space. Output Format: Print the missing number Example: Input:1 2 4 6 3 7 8 Output:5 Explanation: In the above list of numbers 5 is missing and hence 5 is the input"
   ]
  },
  {
   "cell_type": "code",
   "execution_count": 3,
   "metadata": {},
   "outputs": [
    {
     "name": "stdout",
     "output_type": "stream",
     "text": [
      "5\n"
     ]
    }
   ],
   "source": [
    "l=[1 ,2 ,4 ,6 ,3 ,7 ,8]\n",
    "\n",
    "\n",
    "j=1\n",
    "l=sorted(l)\n",
    "for i in l:\n",
    "    if i == j:\n",
    "        j+=1\n",
    "    else:\n",
    "        print (j)\n",
    "        break\n",
    "        \n"
   ]
  },
  {
   "cell_type": "markdown",
   "metadata": {},
   "source": [
    "Question 5:\n",
    "With a given list L, write a program to print this list L after removing all duplicate values with original order reserved. Example: If the input list is 12 24 35 24 88 120 155 88 120 155 Then the output should be 12 24 35 88 120 155 Explanation: Third, seventh and ninth element of the list L has been removed because it was already present. Input Format: In one line take the elements of the list L with each element separated by a space. Output Format: Print the elements of the modified list in one line with each element separated by a space. Example: Input: 12 24 35 24 Output: 12 24 35"
   ]
  },
  {
   "cell_type": "code",
   "execution_count": 4,
   "metadata": {},
   "outputs": [
    {
     "name": "stdout",
     "output_type": "stream",
     "text": [
      "[12, 24, 35]\n"
     ]
    }
   ],
   "source": [
    "def Remove(duplicate): \n",
    "    final_list = [] \n",
    "    for num in duplicate: \n",
    "        if num not in final_list: \n",
    "            final_list.append(num) \n",
    "    return final_list \n",
    "\n",
    "duplicate = [12 ,24, 35, 24] \n",
    "print (Remove(duplicate))"
   ]
  }
 ],
 "metadata": {
  "kernelspec": {
   "display_name": "Python 3",
   "language": "python",
   "name": "python3"
  },
  "language_info": {
   "codemirror_mode": {
    "name": "ipython",
    "version": 3
   },
   "file_extension": ".py",
   "mimetype": "text/x-python",
   "name": "python",
   "nbconvert_exporter": "python",
   "pygments_lexer": "ipython3",
   "version": "3.7.3"
  },
  "toc": {
   "base_numbering": 1,
   "nav_menu": {},
   "number_sections": true,
   "sideBar": true,
   "skip_h1_title": false,
   "title_cell": "Table of Contents",
   "title_sidebar": "Contents",
   "toc_cell": false,
   "toc_position": {},
   "toc_section_display": true,
   "toc_window_display": false
  }
 },
 "nbformat": 4,
 "nbformat_minor": 2
}
