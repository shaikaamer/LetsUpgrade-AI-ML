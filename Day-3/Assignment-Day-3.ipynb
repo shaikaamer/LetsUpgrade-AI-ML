{
 "cells": [
  {
   "cell_type": "markdown",
   "metadata": {},
   "source": [
    " Question 1 :\n",
    " Write a program to subtract two complex numbers in Python\n"
   ]
  },
  {
   "cell_type": "code",
   "execution_count": 5,
   "metadata": {},
   "outputs": [
    {
     "name": "stdout",
     "output_type": "stream",
     "text": [
      "Subtraction of two Complex numbers: (1+3j)\n"
     ]
    }
   ],
   "source": [
    "\n",
    "def subtract(a,b):\n",
    "    return a-b\n",
    "\n",
    "c1=complex(2,5)\n",
    "c2=complex(1,2)\n",
    "c= subtract(c1,c2)\n",
    "print (\"Subtraction of two Complex numbers:\", c)"
   ]
  },
  {
   "cell_type": "markdown",
   "metadata": {},
   "source": [
    "Question 2 :\n",
    "Write a program to find the fourth root of a number."
   ]
  },
  {
   "cell_type": "code",
   "execution_count": 7,
   "metadata": {},
   "outputs": [
    {
     "name": "stdout",
     "output_type": "stream",
     "text": [
      "3.0\n"
     ]
    }
   ],
   "source": [
    "\n",
    "print (81**(1/(4)))"
   ]
  },
  {
   "cell_type": "markdown",
   "metadata": {},
   "source": [
    "Question 3:\n",
    "write a program to swap two numbers in Python with the help of a temporary variable\n"
   ]
  },
  {
   "cell_type": "code",
   "execution_count": 8,
   "metadata": {},
   "outputs": [
    {
     "name": "stdout",
     "output_type": "stream",
     "text": [
      "before Swapping:a= 5 b= 6\n",
      "After Swapping:a= 6 b= 5\n"
     ]
    }
   ],
   "source": [
    "\n",
    "a=5 \n",
    "b=6\n",
    "print (\"Before Swapping:a=\",a,\"b=\",b)\n",
    "\n",
    "c=a\n",
    "a=b\n",
    "b=c\n",
    "\n",
    "print (\"After Swapping:a=\",a,\"b=\",b)"
   ]
  },
  {
   "cell_type": "markdown",
   "metadata": {},
   "source": [
    "Question 4:\n",
    "Write a program to swap two numbers in Python without using a temporary variable.\n"
   ]
  },
  {
   "cell_type": "code",
   "execution_count": 10,
   "metadata": {},
   "outputs": [
    {
     "name": "stdout",
     "output_type": "stream",
     "text": [
      "Before Swapping:a= 5 b= 6\n",
      "After Swapping:a= 6 b= 5\n"
     ]
    }
   ],
   "source": [
    "a=5\n",
    "b=6\n",
    "print (\"Before Swapping:a=\",a,\"b=\",b)\n",
    "# a now becomes 50 \n",
    "a = a * b \n",
    "  \n",
    "# b becomes 10 \n",
    "b = a // b;  \n",
    "  \n",
    "# a becomes 5 \n",
    "a = a // b;  \n",
    "\n",
    "print (\"After Swapping:a=\",a,\"b=\",b)\n"
   ]
  },
  {
   "cell_type": "markdown",
   "metadata": {},
   "source": [
    "Question 5:\n",
    "Write a program to convert fahrenheit to kelvin and celsius both.\n"
   ]
  },
  {
   "cell_type": "code",
   "execution_count": 17,
   "metadata": {},
   "outputs": [
    {
     "name": "stdout",
     "output_type": "stream",
     "text": [
      "Fahrenheit to Kelvin: 311.27777777777777\n",
      "Fahrenheit to Kelvin: 311.278\n",
      "Fahrenheit to celsius: 37.77777777777778\n",
      "Fahrenheit to celsius: 37.778\n"
     ]
    }
   ],
   "source": [
    "#  Formula for Converting fahrenheit to kelvin : K = 273.5 + ((F - 32.0) * (5.0/9.0))\n",
    "def convert_to_kalvin(F):\n",
    "    return 273.5 + ((F - 32.0) * (5.0/9.0))\n",
    "\n",
    "k = convert_to_kalvin(100)\n",
    "print (\"Fahrenheit to Kelvin:\",k )\n",
    "print (\"Fahrenheit to Kelvin: {:.03f}\".format(k))\n",
    "\n",
    "#  Formula for converting fahrenheit to celsius : celsius = (fahrenheit - 32) * 5/9\n",
    "\n",
    "\n",
    "def conver_to_celsius(F):\n",
    "    return (F - 32) * 5/9\n",
    "\n",
    "c=conver_to_celsius(100)\n",
    "print (\"Fahrenheit to celsius:\",c )\n",
    "print (\"Fahrenheit to celsius: {:.03f}\".format(c))"
   ]
  },
  {
   "cell_type": "markdown",
   "metadata": {},
   "source": [
    "Question 6:\n",
    "Write a program to demonstrate all the available data types in Python. Hint: Use type() function.\n"
   ]
  },
  {
   "cell_type": "code",
   "execution_count": 22,
   "metadata": {},
   "outputs": [
    {
     "name": "stdout",
     "output_type": "stream",
     "text": [
      "Type of a:  <class 'int'>\n",
      "\n",
      "Type of b:  <class 'float'>\n",
      "\n",
      "Type of c:  <class 'complex'>\n",
      "Welcome to the  World\n",
      "<class 'list'>\n",
      "<class 'str'>\n",
      "<class 'tuple'>\n",
      "<class 'bool'>\n",
      "<class 'bool'>\n",
      "<class 'set'>\n",
      "<class 'set'>\n",
      "<class 'dict'>\n"
     ]
    }
   ],
   "source": [
    "\n",
    "\n",
    "a = 5\n",
    "print(\"Type of a: \", type(a)) \n",
    "  \n",
    "b = 5.0\n",
    "print(\"\\nType of b: \", type(b)) \n",
    "  \n",
    "c = 2 + 4j\n",
    "print(\"\\nType of c: \", type(c)) \n",
    "\n",
    "String1 = 'Welcome to the  World'\n",
    "\n",
    "print(String1)  \n",
    "l=[1,2,3,'dfg']\n",
    "s=str(l)\n",
    "print(type(l))\n",
    "\n",
    "print (type(s))\n",
    "\n",
    "t=(2,4,5,'sdfg')\n",
    "\n",
    "print (type (t))\n",
    "\n",
    "print(type(True)) \n",
    "print(type(False)) \n",
    "  \n",
    "\n",
    "#####\n",
    "set1 = set()\n",
    "\n",
    "set2 = set(\"Hi\")  \n",
    "\n",
    "print (type( set1))\n",
    "\n",
    "print ( type ( set2 ))\n",
    "\n",
    "\n",
    "#####\n",
    "\n",
    "Dict = {1: 'live', 2: 'For', 3: 'you'}  \n",
    "\n",
    "print ( type( Dict) )"
   ]
  },
  {
   "cell_type": "markdown",
   "metadata": {},
   "source": [
    "Question 7:\n",
    "Create a Markdown cell in jupyter and list the steps discussed in the session by Dr. Darshan\n",
    "Ingle sir to create Github profile and upload Githubs Assignment link\n",
    "\n",
    "\n",
    "1. If you have the Github account, the nigore this step or else create the account with you Gmail ID and als oyou can select your preference as you are employee or student.\n",
    "\n",
    "2. After verifying you maild ID , and then create branch/ folder naming like \"LetsUpgrade AI/ML\".\n",
    "\n",
    "3. when you are at the above branch you can attach the files or you can drag the entire Folder.\n",
    "\n",
    "4. Finally in the Assessment Submission Link \"https://bit.ly/aimlassignment\" fill all the details like.\n",
    "    4.1 our Registered Mail ID\n",
    "    4.2 our Github Link for which we have attached all our assigments."
   ]
  },
  {
   "cell_type": "code",
   "execution_count": null,
   "metadata": {},
   "outputs": [],
   "source": []
  }
 ],
 "metadata": {
  "kernelspec": {
   "display_name": "Python 3",
   "language": "python",
   "name": "python3"
  },
  "language_info": {
   "codemirror_mode": {
    "name": "ipython",
    "version": 3
   },
   "file_extension": ".py",
   "mimetype": "text/x-python",
   "name": "python",
   "nbconvert_exporter": "python",
   "pygments_lexer": "ipython3",
   "version": "3.7.3"
  }
 },
 "nbformat": 4,
 "nbformat_minor": 2
}
