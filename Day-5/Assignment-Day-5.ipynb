{
 "cells": [
  {
   "cell_type": "markdown",
   "metadata": {},
   "source": [
    "Question 1 :\n",
    "Write a Python program to find the first 20 non-even prime natural numbers.\n"
   ]
  },
  {
   "cell_type": "code",
   "execution_count": 5,
   "metadata": {},
   "outputs": [
    {
     "name": "stdout",
     "output_type": "stream",
     "text": [
      "3 5 7 9 11 13 15 17 19 21 23 25 27 29 31 33 35 37 39 41 "
     ]
    }
   ],
   "source": [
    "\n",
    "def prime_Generator(N): #this function will generate prime numbers upto N\n",
    "    num,count = 1,1\n",
    "    while count <= N: #counter will check from 1 to Nth number\n",
    "        num=next_Prime(num) # call next_Prime function to check next prime\n",
    "        count+=1 # increment counter by 1\n",
    "        print (num, end =\" \")\n",
    "\n",
    "prime_Generator(20)\n",
    "        \n",
    "        \n",
    "\n"
   ]
  },
  {
   "cell_type": "code",
   "execution_count": 6,
   "metadata": {},
   "outputs": [],
   "source": [
    "def next_Prime(n):\n",
    "\n",
    "#this function will return next prime number after n check untill not return the number or break\n",
    "\n",
    "    while True: #always\n",
    "        n+=1\n",
    "        for i in range(2,n):\n",
    "\n",
    "            if n%i == 0: #start from 2 check until not find next prime e.g. from 2 ton own number\n",
    "                break #a break if number is not prime\n",
    "\n",
    "            else:\n",
    "\n",
    "                return n  #a prime number found\n"
   ]
  },
  {
   "cell_type": "markdown",
   "metadata": {},
   "source": [
    "Question 2 :\n",
    "Write a Python program to implement 15 functions of string"
   ]
  },
  {
   "cell_type": "code",
   "execution_count": 8,
   "metadata": {},
   "outputs": [
    {
     "name": "stdout",
     "output_type": "stream",
     "text": [
      "Hello, htmloware you\n",
      "2\n",
      "True\n",
      "7\n",
      "For only 49.00 dollars!\n",
      "7\n",
      "True\n",
      "True\n",
      "True\n",
      "John#Peter#Vicky\n",
      "hello my friends\n",
      "('I could eat ', 'bananas', ' all day')\n",
      "I like apples\n",
      "hELLO mY nAME iS peter\n",
      "True\n"
     ]
    }
   ],
   "source": [
    "# 1.\n",
    "txt = \"hello, HTMLoware you\"\n",
    "\n",
    "x = txt.capitalize()\n",
    "\n",
    "print (x)\n",
    "\n",
    "# 2.\n",
    "txt = \"I love apples, apple are my favorite fruit\"\n",
    "\n",
    "x = txt.count(\"apple\")\n",
    "\n",
    "print(x)\n",
    "\n",
    "\n",
    "# 3.\n",
    "\n",
    "\n",
    "txt = \"Hello, welcome to my world.\"\n",
    "\n",
    "x = txt.endswith(\".\")\n",
    "\n",
    "print(x)\n",
    "\n",
    "# 4.\n",
    "\n",
    "txt = \"Hello, welcome to my world.\"\n",
    "\n",
    "x = txt.find(\"welcome\")\n",
    "\n",
    "print(x)\n",
    "\n",
    "# 5.\n",
    "\n",
    "txt = \"For only {price:.2f} dollars!\"\n",
    "print(txt.format(price = 49))\n",
    "\n",
    "# 6.\n",
    "\n",
    "txt = \"Hello, welcome to my world.\"\n",
    "\n",
    "x = txt.index(\"welcome\")\n",
    "\n",
    "print(x)\n",
    "\n",
    "\n",
    "# 7.\n",
    "\n",
    "txt = \"Company12\"\n",
    "\n",
    "x = txt.isalnum()\n",
    "\n",
    "print(x)\n",
    "\n",
    "# 8.\n",
    "\n",
    "txt = \"hello world!\"\n",
    "\n",
    "x = txt.islower()\n",
    "\n",
    "print(x)\n",
    "\n",
    "\n",
    "# 9.\n",
    "\n",
    "txt = \"Hello, And Welcome To My World!\"\n",
    "\n",
    "x = txt.istitle()\n",
    "\n",
    "print(x)\n",
    "\n",
    "# 10.\n",
    "\n",
    "myTuple = (\"John\", \"Peter\", \"Vicky\")\n",
    "\n",
    "x = \"#\".join(myTuple)\n",
    "\n",
    "print(x)\n",
    "\n",
    "# 11\n",
    "\n",
    "txt = \"Hello my FRIENDS\"\n",
    "\n",
    "x = txt.lower()\n",
    "\n",
    "print(x)\n",
    "\n",
    "\n",
    "# 12\n",
    "\n",
    "\n",
    "txt = \"I could eat bananas all day\"\n",
    "\n",
    "x = txt.partition(\"bananas\")\n",
    "\n",
    "print(x)\n",
    "\n",
    "\n",
    "# 13\n",
    "\n",
    "txt = \"I like bananas\"\n",
    "\n",
    "x = txt.replace(\"bananas\", \"apples\")\n",
    "\n",
    "print(x)\n",
    "\n",
    "# 14.\n",
    "\n",
    "txt = \"Hello My Name Is PETER\"\n",
    "\n",
    "x = txt.swapcase()\n",
    "\n",
    "print(x)\n",
    "\n",
    "# 15.\n",
    "\n",
    "txt = \"Hello, welcome to my world.\"\n",
    "\n",
    "x = txt.startswith(\"Hello\")\n",
    "\n",
    "print(x)"
   ]
  },
  {
   "cell_type": "markdown",
   "metadata": {},
   "source": [
    "Question 3:\n",
    "Write a Python program to check if the given string is a Palindrome or Anagram or None of them.\n",
    "Display the message accordingly to the user."
   ]
  },
  {
   "cell_type": "code",
   "execution_count": 1,
   "metadata": {},
   "outputs": [],
   "source": [
    "# Function to reverse a string \n",
    "def reverse(string): \n",
    "    string = \"\".join(reversed(string)) \n",
    "    return string \n",
    "def palindrome(string1):\n",
    "    string2=reverse(string1)\n",
    "    if string1 == string2:\n",
    "        return True\n",
    "    else:\n",
    "        return False\n",
    "    \n"
   ]
  },
  {
   "cell_type": "code",
   "execution_count": 2,
   "metadata": {},
   "outputs": [],
   "source": [
    "def anagram(string1,string2):\n",
    "    l1=len(string1)\n",
    "    l2=len(string2)\n",
    "    \n",
    "    if l1 != l2:\n",
    "        return 0\n",
    "    \n",
    "    string1=sorted(string1)\n",
    "    string2=sorted(string2)\n",
    "    \n",
    "    for i in range(l1):\n",
    "        if string1[i] != string2[i]:\n",
    "            return 0\n",
    "    return 1\n",
    "\n",
    "\n"
   ]
  },
  {
   "cell_type": "code",
   "execution_count": 3,
   "metadata": {},
   "outputs": [
    {
     "name": "stdout",
     "output_type": "stream",
     "text": [
      "Do you want to check \n",
      " 1. Palindrome\n",
      "2.Anagram1\n",
      "Enter the String to check for Palindromemalayalam\n",
      "The Given String malayalam is a Palindrome \n"
     ]
    }
   ],
   "source": [
    "\n",
    "\n",
    "ln=int(input(\"Do you want to check \\n 1. Palindrome\\n2.Anagram\"))\n",
    "if ln==1:\n",
    "    string=input(\"Enter the String to check for Palindrome\")\n",
    "    ans=palindrome(string)\n",
    "    if ans:\n",
    "        print (\"The Given String {:s} is a Palindrome \".format(string))\n",
    "    else:\n",
    "        print (\"The Given String {:s} is a NOT Palindrome \".format(string))\n",
    "    \n",
    "elif ln == 2:\n",
    "    string1=input(\"Enter the String1 to check for Anagram\")\n",
    "    string2=input(\"Enter the String2 to check for Anagram\")\n",
    "    ans = anagram(string1,string2)\n",
    "    if ans:\n",
    "        print (\"The given strings {:s}, {:s} is Anagram\".format(string1,string2))"
   ]
  },
  {
   "cell_type": "markdown",
   "metadata": {},
   "source": [
    "Question 4:\n",
    "Write a Python's user defined function that removes all the additional characters from the string\n",
    "and converts it finally to lower case using built-in lower(). eg: If the string is \"Dr. Darshan Ingle\n",
    "@AI-ML Trainer\", then the output be \"drdarshaningleaimltrainer\"."
   ]
  },
  {
   "cell_type": "code",
   "execution_count": 7,
   "metadata": {},
   "outputs": [
    {
     "name": "stdout",
     "output_type": "stream",
     "text": [
      "Original String : Dr. Darshan Ingle @AI-ML Trainer\n",
      "Resultant list is : DrDarshanIngleAIMLTrainer\n",
      "Converting the final Result into the Loser Case: drdarshaningleaimltrainer\n"
     ]
    }
   ],
   "source": [
    "# Python3 code to demonstrate  \n",
    "# removal of additioinal Characters \n",
    "# using replace() \n",
    "  \n",
    "# initializing bad_chars_list \n",
    "bad_chars = [\" \",\"`\",\"~\",\"!\",\"@\",\"#\",\"$\",\"%\",\"^\",\"&\",\"*\",\"(\",\")\",\"-\",\"_\",\"=\",\"+\" , \"[\" ,   \"]\" , \"{\" , \"}\" , \";\" , \":\" , \"'\" , \",\", \".\" , \"/\" , \"<\" , \">\", \"?\"] \n",
    "  \n",
    "# initializing test string  \n",
    "test_string = \"Dr. Darshan Ingle @AI-ML Trainer\"\n",
    "  \n",
    "# printing original string  \n",
    "print (\"Original String : \" + test_string) \n",
    "  \n",
    "# using replace() to  \n",
    "# remove bad_chars  \n",
    "for i in bad_chars : \n",
    "    test_string = test_string.replace(i, '') \n",
    "  \n",
    "# printing resultant string  \n",
    "print (\"Resultant list is : \" + str(test_string)) \n",
    "\n",
    "print (\"Converting the final Result into the Loser Case:\",test_string.lower())"
   ]
  }
 ],
 "metadata": {
  "kernelspec": {
   "display_name": "Python 3",
   "language": "python",
   "name": "python3"
  },
  "language_info": {
   "codemirror_mode": {
    "name": "ipython",
    "version": 3
   },
   "file_extension": ".py",
   "mimetype": "text/x-python",
   "name": "python",
   "nbconvert_exporter": "python",
   "pygments_lexer": "ipython3",
   "version": "3.7.3"
  }
 },
 "nbformat": 4,
 "nbformat_minor": 2
}
