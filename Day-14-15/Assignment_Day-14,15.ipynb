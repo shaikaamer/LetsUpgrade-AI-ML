{
 "cells": [
  {
   "cell_type": "markdown",
   "metadata": {},
   "source": [
    "# 1. Create a 3x3x3 array with random values "
   ]
  },
  {
   "cell_type": "code",
   "execution_count": 2,
   "metadata": {},
   "outputs": [
    {
     "data": {
      "text/plain": [
       "array([[[0.29210446, 0.73854883, 0.70693508],\n",
       "        [0.31156406, 0.28019999, 0.64542497],\n",
       "        [0.98552253, 0.42641299, 0.55850103]],\n",
       "\n",
       "       [[0.97342632, 0.65780107, 0.04157007],\n",
       "        [0.40855987, 0.25950704, 0.15202075],\n",
       "        [0.94468453, 0.00354824, 0.04294842]],\n",
       "\n",
       "       [[0.40782566, 0.78794337, 0.53940721],\n",
       "        [0.85395414, 0.70101548, 0.45639253],\n",
       "        [0.44551728, 0.49009252, 0.4182681 ]]])"
      ]
     },
     "execution_count": 2,
     "metadata": {},
     "output_type": "execute_result"
    }
   ],
   "source": [
    "import numpy as np\n",
    "np.random.random(((3,3,3)))"
   ]
  },
  {
   "cell_type": "markdown",
   "metadata": {},
   "source": [
    "# 2.Create a 5x5 matrix with values 1,2,3,4 just below the diagonal"
   ]
  },
  {
   "cell_type": "code",
   "execution_count": 3,
   "metadata": {},
   "outputs": [
    {
     "name": "stdout",
     "output_type": "stream",
     "text": [
      "[[0 0 0 0 0]\n",
      " [1 0 0 0 0]\n",
      " [0 2 0 0 0]\n",
      " [0 0 3 0 0]\n",
      " [0 0 0 4 0]]\n"
     ]
    }
   ],
   "source": [
    "Z = np.diag(1+np.arange(4),k=-1)\n",
    "print(Z)"
   ]
  },
  {
   "cell_type": "markdown",
   "metadata": {},
   "source": [
    "# 3.Create a 8x8 matrix and fill it with a checkerboard pattern"
   ]
  },
  {
   "cell_type": "code",
   "execution_count": 4,
   "metadata": {},
   "outputs": [
    {
     "name": "stdout",
     "output_type": "stream",
     "text": [
      "[[0 1 0 1 0 1 0 1]\n",
      " [1 0 1 0 1 0 1 0]\n",
      " [0 1 0 1 0 1 0 1]\n",
      " [1 0 1 0 1 0 1 0]\n",
      " [0 1 0 1 0 1 0 1]\n",
      " [1 0 1 0 1 0 1 0]\n",
      " [0 1 0 1 0 1 0 1]\n",
      " [1 0 1 0 1 0 1 0]]\n"
     ]
    }
   ],
   "source": [
    "Z = np.zeros((8,8),dtype=int)\n",
    "Z[1::2,::2] = 1\n",
    "Z[::2,1::2] = 1\n",
    "print(Z)"
   ]
  },
  {
   "cell_type": "markdown",
   "metadata": {},
   "source": [
    "# 4. Normalize a 5x5 random matrix"
   ]
  },
  {
   "cell_type": "code",
   "execution_count": 5,
   "metadata": {},
   "outputs": [
    {
     "name": "stdout",
     "output_type": "stream",
     "text": [
      "[[ 1.81306595 -1.5519519   0.59356225 -1.47508439 -0.84245352]\n",
      " [ 1.13944612 -0.8334077  -0.32167675 -0.9064745   0.51307749]\n",
      " [-1.40401694  1.1293716   0.41574924 -0.31792413  0.26020393]\n",
      " [-0.84809864  0.59705075  1.42080685  0.7831269  -0.79488914]\n",
      " [-0.13505867 -1.15165919  1.41944765 -0.60952468  1.10731142]]\n"
     ]
    }
   ],
   "source": [
    "Z = np.random.random((5,5))\n",
    "Z = (Z - np.mean (Z)) / (np.std (Z))\n",
    "print(Z)"
   ]
  },
  {
   "cell_type": "markdown",
   "metadata": {},
   "source": [
    "# 5.  How to find common values between two arrays?"
   ]
  },
  {
   "cell_type": "code",
   "execution_count": 6,
   "metadata": {},
   "outputs": [
    {
     "name": "stdout",
     "output_type": "stream",
     "text": [
      "Array1:  [ 0 10 20 40 60]\n",
      "Array2:  [10, 30, 40]\n",
      "Common values between two arrays:\n",
      "[10 40]\n"
     ]
    }
   ],
   "source": [
    "import numpy as np\n",
    "array1 = np.array([0, 10, 20, 40, 60])\n",
    "print(\"Array1: \",array1)\n",
    "array2 = [10, 30, 40]\n",
    "print(\"Array2: \",array2)\n",
    "print(\"Common values between two arrays:\")\n",
    "print(np.intersect1d(array1, array2))"
   ]
  },
  {
   "cell_type": "markdown",
   "metadata": {},
   "source": [
    "# 6.How to get the dates of yesterday, today and tomorrow?"
   ]
  },
  {
   "cell_type": "code",
   "execution_count": 9,
   "metadata": {},
   "outputs": [
    {
     "name": "stdout",
     "output_type": "stream",
     "text": [
      "2020-07-25\n",
      "2020-07-26\n",
      "2020-07-27\n"
     ]
    }
   ],
   "source": [
    "yesterday = np.datetime64('today') - np.timedelta64(1)\n",
    "today     = np.datetime64('today')\n",
    "tomorrow  = np.datetime64('today') + np.timedelta64(1)\n",
    "print (yesterday)\n",
    "print (today)\n",
    "print (tomorrow)"
   ]
  },
  {
   "cell_type": "markdown",
   "metadata": {},
   "source": [
    "# 7. Consider two random array A and B, check if they are equal"
   ]
  },
  {
   "cell_type": "code",
   "execution_count": 10,
   "metadata": {},
   "outputs": [
    {
     "name": "stdout",
     "output_type": "stream",
     "text": [
      "[]\n"
     ]
    }
   ],
   "source": [
    "a=np.random.random((5))\n",
    "b=np.random.random((5))\n",
    "print(np.intersect1d(a, b))"
   ]
  },
  {
   "cell_type": "markdown",
   "metadata": {},
   "source": [
    "# 8.Create random vector of size 10 and replace the maximum value by 0 "
   ]
  },
  {
   "cell_type": "code",
   "execution_count": 11,
   "metadata": {},
   "outputs": [
    {
     "name": "stdout",
     "output_type": "stream",
     "text": [
      "0.9039337136215955\n",
      "[0.827061   0.6338872  0.12134923 0.18538461 0.22929832 0.50895027\n",
      " 0.4522244  0.63078443 0.17996916 0.        ]\n"
     ]
    }
   ],
   "source": [
    "z=np.random.rand(10)\n",
    "p=z.max()\n",
    "z[z.argmax()]=0\n",
    "print (p)\n",
    "print (z)"
   ]
  },
  {
   "cell_type": "markdown",
   "metadata": {},
   "source": [
    "# 9. How to print all the values of an array?"
   ]
  },
  {
   "cell_type": "code",
   "execution_count": 12,
   "metadata": {},
   "outputs": [
    {
     "name": "stdout",
     "output_type": "stream",
     "text": [
      "[[0. 0. 0. 0. 0. 0. 0. 0. 0. 0. 0. 0. 0. 0. 0. 0.]\n",
      " [0. 0. 0. 0. 0. 0. 0. 0. 0. 0. 0. 0. 0. 0. 0. 0.]\n",
      " [0. 0. 0. 0. 0. 0. 0. 0. 0. 0. 0. 0. 0. 0. 0. 0.]\n",
      " [0. 0. 0. 0. 0. 0. 0. 0. 0. 0. 0. 0. 0. 0. 0. 0.]\n",
      " [0. 0. 0. 0. 0. 0. 0. 0. 0. 0. 0. 0. 0. 0. 0. 0.]\n",
      " [0. 0. 0. 0. 0. 0. 0. 0. 0. 0. 0. 0. 0. 0. 0. 0.]\n",
      " [0. 0. 0. 0. 0. 0. 0. 0. 0. 0. 0. 0. 0. 0. 0. 0.]\n",
      " [0. 0. 0. 0. 0. 0. 0. 0. 0. 0. 0. 0. 0. 0. 0. 0.]\n",
      " [0. 0. 0. 0. 0. 0. 0. 0. 0. 0. 0. 0. 0. 0. 0. 0.]\n",
      " [0. 0. 0. 0. 0. 0. 0. 0. 0. 0. 0. 0. 0. 0. 0. 0.]\n",
      " [0. 0. 0. 0. 0. 0. 0. 0. 0. 0. 0. 0. 0. 0. 0. 0.]\n",
      " [0. 0. 0. 0. 0. 0. 0. 0. 0. 0. 0. 0. 0. 0. 0. 0.]\n",
      " [0. 0. 0. 0. 0. 0. 0. 0. 0. 0. 0. 0. 0. 0. 0. 0.]\n",
      " [0. 0. 0. 0. 0. 0. 0. 0. 0. 0. 0. 0. 0. 0. 0. 0.]\n",
      " [0. 0. 0. 0. 0. 0. 0. 0. 0. 0. 0. 0. 0. 0. 0. 0.]\n",
      " [0. 0. 0. 0. 0. 0. 0. 0. 0. 0. 0. 0. 0. 0. 0. 0.]]\n"
     ]
    }
   ],
   "source": [
    "\n",
    "\n",
    "Z = np.zeros((16,16))\n",
    "print(Z)"
   ]
  },
  {
   "cell_type": "markdown",
   "metadata": {},
   "source": [
    "# 10.Subtract the mean of each row of a matrix"
   ]
  },
  {
   "cell_type": "code",
   "execution_count": 13,
   "metadata": {},
   "outputs": [
    {
     "name": "stdout",
     "output_type": "stream",
     "text": [
      "[0.48499887 0.58150348 0.48657656 0.65970583 0.58605206]\n",
      "[[3.86170015e-01 7.44959455e-01 4.34592710e-04 8.04264664e-01\n",
      "  4.31982738e-01 8.90195638e-01 1.27631306e-03 7.36225187e-02\n",
      "  5.39551078e-01 9.77531674e-01]\n",
      " [6.29854596e-01 5.29320017e-01 3.40310247e-01 8.93194284e-01\n",
      "  1.20455685e-01 8.70232346e-01 7.92946876e-01 8.74037442e-01\n",
      "  7.03287254e-01 6.13960304e-02]\n",
      " [1.84242969e-01 1.03104433e-01 9.61152906e-01 5.19282593e-01\n",
      "  3.88344619e-01 5.66648772e-02 9.53750667e-01 7.65321516e-01\n",
      "  6.76570279e-01 2.57330767e-01]\n",
      " [5.28316703e-01 8.84048574e-01 8.47747116e-02 6.19487604e-01\n",
      "  4.88091317e-01 7.50226936e-01 9.79667847e-01 7.22744892e-01\n",
      "  8.46943366e-01 6.92756304e-01]\n",
      " [5.37628327e-01 1.57903732e-01 6.70969760e-02 9.48174259e-01\n",
      "  6.33902003e-01 8.28520724e-01 8.71041226e-01 8.27692980e-01\n",
      "  8.65270683e-01 1.23289730e-01]]\n",
      "[[-0.09882885  0.25996059 -0.48456428  0.3192658  -0.05301613  0.40519677\n",
      "  -0.48372256 -0.41137635  0.05455221  0.49253281]\n",
      " [ 0.04835112 -0.05218346 -0.24119323  0.31169081 -0.46104779  0.28872887\n",
      "   0.2114434   0.29253396  0.12178378 -0.52010745]\n",
      " [-0.30233359 -0.38347213  0.47457634  0.03270603 -0.09823194 -0.42991169\n",
      "   0.4671741   0.27874495  0.18999372 -0.2292458 ]\n",
      " [-0.13138912  0.22434275 -0.57493111 -0.04021822 -0.17161451  0.09052111\n",
      "   0.31996202  0.06303907  0.18723754  0.03305048]\n",
      " [-0.04842374 -0.42814833 -0.51895509  0.3621222   0.04784994  0.24246866\n",
      "   0.28498916  0.24164092  0.27921862 -0.46276233]]\n"
     ]
    }
   ],
   "source": [
    "X = np.random.rand(5, 10)\n",
    "\n",
    "\n",
    "\n",
    "print (X.mean(axis=1))\n",
    "print (X)\n",
    "Y = X - (X.mean(axis=1, keepdims=True))\n",
    "print (Y)"
   ]
  },
  {
   "cell_type": "markdown",
   "metadata": {},
   "source": [
    "# 11.Consider a given vector, how to add 1 to each element indexed by a second vector (be careful with repeated indices)? "
   ]
  },
  {
   "cell_type": "code",
   "execution_count": 14,
   "metadata": {},
   "outputs": [
    {
     "name": "stdout",
     "output_type": "stream",
     "text": [
      "[4. 3. 1. 1. 4. 1. 7. 4. 1. 4.]\n"
     ]
    }
   ],
   "source": [
    "Z = np.ones(10)\n",
    "I = np.random.randint(0,len(Z),20)\n",
    "Z += np.bincount(I, minlength=len(Z))\n",
    "print(Z)"
   ]
  },
  {
   "cell_type": "code",
   "execution_count": null,
   "metadata": {},
   "outputs": [],
   "source": []
  },
  {
   "cell_type": "markdown",
   "metadata": {},
   "source": [
    "# 12.How to get the diagonal of a dot product?"
   ]
  },
  {
   "cell_type": "code",
   "execution_count": 15,
   "metadata": {},
   "outputs": [
    {
     "name": "stdout",
     "output_type": "stream",
     "text": [
      "[1 5 9]\n",
      "[7 5 3]\n",
      "Diagonal Dot Operation of two Vectors\n",
      "[ 18  69 138]\n"
     ]
    }
   ],
   "source": [
    "A=np.array(([\n",
    "    [1,2,3],[4,5,6],[7,8,9]\n",
    "    \n",
    "]))\n",
    "\n",
    "B=np.array(([\n",
    "    [7,8,9],[4,5,6],[1,2,3]\n",
    "    \n",
    "]))\n",
    "\n",
    "Z=np.diag(np.dot(A,B))\n",
    "\n",
    "print (np.diag(A))\n",
    "\n",
    "print (np.diag(B))\n",
    "\n",
    "print (\"Diagonal Dot Operation of two Vectors\")\n",
    "\n",
    "print (Z)"
   ]
  },
  {
   "cell_type": "markdown",
   "metadata": {},
   "source": [
    "# 13.How to find the most frequent value in an array?"
   ]
  },
  {
   "cell_type": "code",
   "execution_count": 16,
   "metadata": {},
   "outputs": [
    {
     "name": "stdout",
     "output_type": "stream",
     "text": [
      "2\n",
      "[0 9 9 2 1 2 2 4 2 0 1 3 8 4 7 5 5 0 6 3 7 5 2 2 0 2 4 6 6 5 1 9 0 2 0 4 7\n",
      " 7 5 4 4 2 3 4 9 0 4 1 0 1]\n"
     ]
    }
   ],
   "source": [
    "Z = np.random.randint(0,10,50)\n",
    "print(np.bincount(Z).argmax())\n",
    "print (Z)"
   ]
  },
  {
   "cell_type": "markdown",
   "metadata": {},
   "source": [
    "# 14.How to get the n largest values of an array"
   ]
  },
  {
   "cell_type": "code",
   "execution_count": 17,
   "metadata": {},
   "outputs": [
    {
     "name": "stdout",
     "output_type": "stream",
     "text": [
      "[59 67 86 95 70 43 72 43 87  7  0 29 98 62 13 88 91 70 73 20 30 39 98 95\n",
      " 75 19 14 41 33 24]\n",
      "[ 0  7 13 14 19 20 24 29 30 33 39 41 43 43 59 62 67 70 70 72 73 75 86 87\n",
      " 88 91 95 95 98 98]\n",
      "[91 95 95 98 98]\n"
     ]
    }
   ],
   "source": [
    "# Z = np.arange(10000)\n",
    "# np.random.shuffle(Z)\n",
    "Z=np.random.randint(0,100,30)\n",
    "n = 5\n",
    "print (Z)\n",
    "\n",
    "\n",
    "print (np.sort(Z))\n",
    "print (Z[np.argsort(Z)[-n:]])\n"
   ]
  },
  {
   "cell_type": "markdown",
   "metadata": {},
   "source": [
    "# 15.How to create a record array from a regular array?"
   ]
  },
  {
   "cell_type": "code",
   "execution_count": 18,
   "metadata": {},
   "outputs": [
    {
     "name": "stdout",
     "output_type": "stream",
     "text": [
      "[(1, 'Red', 12.2) (2, 'Green', 15. ) (3, 'White', 20. )\n",
      " (4, 'Orange', 40. )]\n"
     ]
    }
   ],
   "source": [
    "import numpy as np\n",
    "a1=np.array([1,2,3,4])\n",
    "a2=np.array(['Red','Green','White','Orange'])\n",
    "a3=np.array([12.20,15,20,40])\n",
    "result= np.core.records.fromarrays([a1, a2, a3],names='a,b,c')\n",
    "print (result)"
   ]
  },
  {
   "cell_type": "code",
   "execution_count": null,
   "metadata": {},
   "outputs": [],
   "source": []
  }
 ],
 "metadata": {
  "kernelspec": {
   "display_name": "Python 3",
   "language": "python",
   "name": "python3"
  },
  "language_info": {
   "codemirror_mode": {
    "name": "ipython",
    "version": 3
   },
   "file_extension": ".py",
   "mimetype": "text/x-python",
   "name": "python",
   "nbconvert_exporter": "python",
   "pygments_lexer": "ipython3",
   "version": "3.7.3"
  },
  "toc": {
   "base_numbering": 1,
   "nav_menu": {},
   "number_sections": true,
   "sideBar": true,
   "skip_h1_title": false,
   "title_cell": "Table of Contents",
   "title_sidebar": "Contents",
   "toc_cell": false,
   "toc_position": {},
   "toc_section_display": true,
   "toc_window_display": false
  }
 },
 "nbformat": 4,
 "nbformat_minor": 2
}
